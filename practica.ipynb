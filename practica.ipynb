{
 "cells": [
  {
   "cell_type": "code",
   "execution_count": 300,
   "metadata": {},
   "outputs": [],
   "source": [
    "import sys\n",
    "import pandas as pd\n",
    "import numpy as np\n",
    "import matplotlib.pyplot as plt\n",
    "from functools import reduce\n",
    "import seaborn as sns\n",
    "import warnings\n",
    "warnings.filterwarnings(\"ignore\", category=UserWarning)"
   ]
  },
  {
   "cell_type": "markdown",
   "metadata": {},
   "source": [
    "### LECTURA DATOS"
   ]
  },
  {
   "cell_type": "code",
   "execution_count": 301,
   "metadata": {},
   "outputs": [],
   "source": [
    "#mysql_config = {\n",
    "#    'host': 'localhost',\n",
    "#    'user': 'root',\n",
    "#    'database': 'cancer_mama'\n",
    "#}\n",
    "\n",
    "#conn_mysql = mysql.connector.connect(**mysql_config)\n",
    "#cursor_mysql = conn_mysql.cursor()\n",
    "\n",
    "#query = \"SELECT * FROM tumor;\"\n",
    "#df_sql = pd.read_sql_query(query, conn_mysql)"
   ]
  },
  {
   "cell_type": "code",
   "execution_count": 302,
   "metadata": {},
   "outputs": [],
   "source": [
    "# PARA MAC\n",
    "# df_sql = pd.read_csv('./Datos/datos_sql.csv')\n",
    "# df_sql = df_sql.drop('Unnamed: 0',axis=1)\n",
    "# df_sql"
   ]
  },
  {
   "cell_type": "code",
   "execution_count": 303,
   "metadata": {},
   "outputs": [],
   "source": [
    "df_csv1 = pd.read_csv('./Datos/patients_batch1.csv')\n",
    "df_csv2 = pd.read_csv('./Datos/patients_batch2.csv')\n",
    "df_excel = pd.read_excel('./Datos/gynecological.xlsx')\n",
    "df_excel = df_excel.drop('Unnamed: 0', axis=1)\n",
    "df_json = pd.read_json('./Datos/histochemistry.json')\n",
    "df_sql = pd.read_csv('./Datos/datos_sql.csv')\n",
    "df_sql = df_sql.drop('Unnamed: 0', axis=1)"
   ]
  },
  {
   "cell_type": "markdown",
   "metadata": {},
   "source": [
    "# PREPROCESADO"
   ]
  },
  {
   "cell_type": "markdown",
   "metadata": {},
   "source": [
    "### Preprocesado gynecological\n"
   ]
  },
  {
   "cell_type": "code",
   "execution_count": 304,
   "metadata": {},
   "outputs": [
    {
     "data": {
      "text/html": [
       "<div>\n",
       "<style scoped>\n",
       "    .dataframe tbody tr th:only-of-type {\n",
       "        vertical-align: middle;\n",
       "    }\n",
       "\n",
       "    .dataframe tbody tr th {\n",
       "        vertical-align: top;\n",
       "    }\n",
       "\n",
       "    .dataframe thead th {\n",
       "        text-align: right;\n",
       "    }\n",
       "</style>\n",
       "<table border=\"1\" class=\"dataframe\">\n",
       "  <thead>\n",
       "    <tr style=\"text-align: right;\">\n",
       "      <th></th>\n",
       "      <th>ehr</th>\n",
       "      <th>pregnancy</th>\n",
       "      <th>birth</th>\n",
       "      <th>caesarean</th>\n",
       "      <th>abort</th>\n",
       "      <th>menarche_age</th>\n",
       "      <th>menopause_age</th>\n",
       "    </tr>\n",
       "  </thead>\n",
       "  <tbody>\n",
       "    <tr>\n",
       "      <th>0</th>\n",
       "      <td>10011773</td>\n",
       "      <td>-8.0</td>\n",
       "      <td>0.0</td>\n",
       "      <td>NaN</td>\n",
       "      <td>0.0</td>\n",
       "      <td>NaN</td>\n",
       "      <td>71.0</td>\n",
       "    </tr>\n",
       "    <tr>\n",
       "      <th>1</th>\n",
       "      <td>10030299</td>\n",
       "      <td>3.0</td>\n",
       "      <td>NaN</td>\n",
       "      <td>0.0</td>\n",
       "      <td>0.0</td>\n",
       "      <td>NaN</td>\n",
       "      <td>NaN</td>\n",
       "    </tr>\n",
       "    <tr>\n",
       "      <th>2</th>\n",
       "      <td>10030824</td>\n",
       "      <td>0.0</td>\n",
       "      <td>0.0</td>\n",
       "      <td>0.0</td>\n",
       "      <td>NaN</td>\n",
       "      <td>NaN</td>\n",
       "      <td>44.0</td>\n",
       "    </tr>\n",
       "    <tr>\n",
       "      <th>3</th>\n",
       "      <td>10053435</td>\n",
       "      <td>2.0</td>\n",
       "      <td>NaN</td>\n",
       "      <td>0.0</td>\n",
       "      <td>1.0</td>\n",
       "      <td>21.0</td>\n",
       "      <td>74.0</td>\n",
       "    </tr>\n",
       "    <tr>\n",
       "      <th>4</th>\n",
       "      <td>10111454</td>\n",
       "      <td>0.0</td>\n",
       "      <td>-6.0</td>\n",
       "      <td>NaN</td>\n",
       "      <td>0.0</td>\n",
       "      <td>16.0</td>\n",
       "      <td>55.0</td>\n",
       "    </tr>\n",
       "    <tr>\n",
       "      <th>...</th>\n",
       "      <td>...</td>\n",
       "      <td>...</td>\n",
       "      <td>...</td>\n",
       "      <td>...</td>\n",
       "      <td>...</td>\n",
       "      <td>...</td>\n",
       "      <td>...</td>\n",
       "    </tr>\n",
       "    <tr>\n",
       "      <th>7681</th>\n",
       "      <td>99948591</td>\n",
       "      <td>9.0</td>\n",
       "      <td>2.0</td>\n",
       "      <td>-4.0</td>\n",
       "      <td>0.0</td>\n",
       "      <td>12.0</td>\n",
       "      <td>47.0</td>\n",
       "    </tr>\n",
       "    <tr>\n",
       "      <th>7682</th>\n",
       "      <td>99961100</td>\n",
       "      <td>2.0</td>\n",
       "      <td>2.0</td>\n",
       "      <td>0.0</td>\n",
       "      <td>0.0</td>\n",
       "      <td>19.0</td>\n",
       "      <td>52.0</td>\n",
       "    </tr>\n",
       "    <tr>\n",
       "      <th>7683</th>\n",
       "      <td>99981192</td>\n",
       "      <td>3.0</td>\n",
       "      <td>3.0</td>\n",
       "      <td>0.0</td>\n",
       "      <td>-5.0</td>\n",
       "      <td>11.0</td>\n",
       "      <td>NaN</td>\n",
       "    </tr>\n",
       "    <tr>\n",
       "      <th>7684</th>\n",
       "      <td>99992350</td>\n",
       "      <td>4.0</td>\n",
       "      <td>3.0</td>\n",
       "      <td>NaN</td>\n",
       "      <td>-6.0</td>\n",
       "      <td>11.0</td>\n",
       "      <td>55.0</td>\n",
       "    </tr>\n",
       "    <tr>\n",
       "      <th>7685</th>\n",
       "      <td>99994417</td>\n",
       "      <td>2.0</td>\n",
       "      <td>-6.0</td>\n",
       "      <td>NaN</td>\n",
       "      <td>NaN</td>\n",
       "      <td>13.0</td>\n",
       "      <td>NaN</td>\n",
       "    </tr>\n",
       "  </tbody>\n",
       "</table>\n",
       "<p>7686 rows × 7 columns</p>\n",
       "</div>"
      ],
      "text/plain": [
       "           ehr  pregnancy  birth  caesarean  abort  menarche_age  \\\n",
       "0     10011773       -8.0    0.0        NaN    0.0           NaN   \n",
       "1     10030299        3.0    NaN        0.0    0.0           NaN   \n",
       "2     10030824        0.0    0.0        0.0    NaN           NaN   \n",
       "3     10053435        2.0    NaN        0.0    1.0          21.0   \n",
       "4     10111454        0.0   -6.0        NaN    0.0          16.0   \n",
       "...        ...        ...    ...        ...    ...           ...   \n",
       "7681  99948591        9.0    2.0       -4.0    0.0          12.0   \n",
       "7682  99961100        2.0    2.0        0.0    0.0          19.0   \n",
       "7683  99981192        3.0    3.0        0.0   -5.0          11.0   \n",
       "7684  99992350        4.0    3.0        NaN   -6.0          11.0   \n",
       "7685  99994417        2.0   -6.0        NaN    NaN          13.0   \n",
       "\n",
       "      menopause_age  \n",
       "0              71.0  \n",
       "1               NaN  \n",
       "2              44.0  \n",
       "3              74.0  \n",
       "4              55.0  \n",
       "...             ...  \n",
       "7681           47.0  \n",
       "7682           52.0  \n",
       "7683            NaN  \n",
       "7684           55.0  \n",
       "7685            NaN  \n",
       "\n",
       "[7686 rows x 7 columns]"
      ]
     },
     "execution_count": 304,
     "metadata": {},
     "output_type": "execute_result"
    }
   ],
   "source": [
    "df_excel"
   ]
  },
  {
   "cell_type": "code",
   "execution_count": 305,
   "metadata": {},
   "outputs": [
    {
     "name": "stdout",
     "output_type": "stream",
     "text": [
      "<class 'pandas.core.frame.DataFrame'>\n",
      "RangeIndex: 7686 entries, 0 to 7685\n",
      "Data columns (total 7 columns):\n",
      " #   Column         Non-Null Count  Dtype  \n",
      "---  ------         --------------  -----  \n",
      " 0   ehr            7686 non-null   int64  \n",
      " 1   pregnancy      6413 non-null   float64\n",
      " 2   birth          6417 non-null   float64\n",
      " 3   caesarean      6131 non-null   float64\n",
      " 4   abort          6235 non-null   float64\n",
      " 5   menarche_age   4901 non-null   float64\n",
      " 6   menopause_age  4486 non-null   float64\n",
      "dtypes: float64(6), int64(1)\n",
      "memory usage: 420.5 KB\n"
     ]
    }
   ],
   "source": [
    "df = df_excel\n",
    "df.info()"
   ]
  },
  {
   "cell_type": "code",
   "execution_count": 306,
   "metadata": {},
   "outputs": [
    {
     "data": {
      "text/html": [
       "<div>\n",
       "<style scoped>\n",
       "    .dataframe tbody tr th:only-of-type {\n",
       "        vertical-align: middle;\n",
       "    }\n",
       "\n",
       "    .dataframe tbody tr th {\n",
       "        vertical-align: top;\n",
       "    }\n",
       "\n",
       "    .dataframe thead th {\n",
       "        text-align: right;\n",
       "    }\n",
       "</style>\n",
       "<table border=\"1\" class=\"dataframe\">\n",
       "  <thead>\n",
       "    <tr style=\"text-align: right;\">\n",
       "      <th></th>\n",
       "      <th>ehr</th>\n",
       "      <th>pregnancy</th>\n",
       "      <th>birth</th>\n",
       "      <th>caesarean</th>\n",
       "      <th>abort</th>\n",
       "      <th>menarche_age</th>\n",
       "      <th>menopause_age</th>\n",
       "    </tr>\n",
       "  </thead>\n",
       "  <tbody>\n",
       "    <tr>\n",
       "      <th>count</th>\n",
       "      <td>7.686000e+03</td>\n",
       "      <td>6413.000000</td>\n",
       "      <td>6417.000000</td>\n",
       "      <td>6131.000000</td>\n",
       "      <td>6235.000000</td>\n",
       "      <td>4901.000000</td>\n",
       "      <td>4486.000000</td>\n",
       "    </tr>\n",
       "    <tr>\n",
       "      <th>mean</th>\n",
       "      <td>5.505640e+07</td>\n",
       "      <td>2.078590</td>\n",
       "      <td>1.673991</td>\n",
       "      <td>0.029848</td>\n",
       "      <td>0.259984</td>\n",
       "      <td>12.736584</td>\n",
       "      <td>50.263041</td>\n",
       "    </tr>\n",
       "    <tr>\n",
       "      <th>std</th>\n",
       "      <td>2.621591e+07</td>\n",
       "      <td>3.052473</td>\n",
       "      <td>3.006228</td>\n",
       "      <td>2.677790</td>\n",
       "      <td>2.691482</td>\n",
       "      <td>3.062710</td>\n",
       "      <td>17.196300</td>\n",
       "    </tr>\n",
       "    <tr>\n",
       "      <th>min</th>\n",
       "      <td>1.001177e+07</td>\n",
       "      <td>-10.000000</td>\n",
       "      <td>-10.000000</td>\n",
       "      <td>-11.000000</td>\n",
       "      <td>-12.000000</td>\n",
       "      <td>0.000000</td>\n",
       "      <td>2.000000</td>\n",
       "    </tr>\n",
       "    <tr>\n",
       "      <th>25%</th>\n",
       "      <td>3.202165e+07</td>\n",
       "      <td>1.000000</td>\n",
       "      <td>0.000000</td>\n",
       "      <td>0.000000</td>\n",
       "      <td>0.000000</td>\n",
       "      <td>11.000000</td>\n",
       "      <td>44.000000</td>\n",
       "    </tr>\n",
       "    <tr>\n",
       "      <th>50%</th>\n",
       "      <td>5.503108e+07</td>\n",
       "      <td>2.000000</td>\n",
       "      <td>2.000000</td>\n",
       "      <td>0.000000</td>\n",
       "      <td>0.000000</td>\n",
       "      <td>13.000000</td>\n",
       "      <td>49.000000</td>\n",
       "    </tr>\n",
       "    <tr>\n",
       "      <th>75%</th>\n",
       "      <td>7.794185e+07</td>\n",
       "      <td>3.000000</td>\n",
       "      <td>3.000000</td>\n",
       "      <td>0.000000</td>\n",
       "      <td>1.000000</td>\n",
       "      <td>14.000000</td>\n",
       "      <td>53.000000</td>\n",
       "    </tr>\n",
       "    <tr>\n",
       "      <th>max</th>\n",
       "      <td>9.999442e+07</td>\n",
       "      <td>14.000000</td>\n",
       "      <td>15.000000</td>\n",
       "      <td>12.000000</td>\n",
       "      <td>12.000000</td>\n",
       "      <td>26.000000</td>\n",
       "      <td>145.000000</td>\n",
       "    </tr>\n",
       "  </tbody>\n",
       "</table>\n",
       "</div>"
      ],
      "text/plain": [
       "                ehr    pregnancy        birth    caesarean        abort  \\\n",
       "count  7.686000e+03  6413.000000  6417.000000  6131.000000  6235.000000   \n",
       "mean   5.505640e+07     2.078590     1.673991     0.029848     0.259984   \n",
       "std    2.621591e+07     3.052473     3.006228     2.677790     2.691482   \n",
       "min    1.001177e+07   -10.000000   -10.000000   -11.000000   -12.000000   \n",
       "25%    3.202165e+07     1.000000     0.000000     0.000000     0.000000   \n",
       "50%    5.503108e+07     2.000000     2.000000     0.000000     0.000000   \n",
       "75%    7.794185e+07     3.000000     3.000000     0.000000     1.000000   \n",
       "max    9.999442e+07    14.000000    15.000000    12.000000    12.000000   \n",
       "\n",
       "       menarche_age  menopause_age  \n",
       "count   4901.000000    4486.000000  \n",
       "mean      12.736584      50.263041  \n",
       "std        3.062710      17.196300  \n",
       "min        0.000000       2.000000  \n",
       "25%       11.000000      44.000000  \n",
       "50%       13.000000      49.000000  \n",
       "75%       14.000000      53.000000  \n",
       "max       26.000000     145.000000  "
      ]
     },
     "execution_count": 306,
     "metadata": {},
     "output_type": "execute_result"
    }
   ],
   "source": [
    "df.describe()"
   ]
  },
  {
   "cell_type": "markdown",
   "metadata": {},
   "source": [
    "Denotamos , que hay valores atípicos y que no concuerdan en las columnas, como por ejemplo el caso de pregancy, birth... que denotan valores mínimos de -20 y de -18, respectivamente. Por ello, vamos a realizar una Exploración inicial"
   ]
  },
  {
   "cell_type": "code",
   "execution_count": 307,
   "metadata": {},
   "outputs": [
    {
     "data": {
      "text/plain": [
       "ehr                 0\n",
       "pregnancy        1273\n",
       "birth            1269\n",
       "caesarean        1555\n",
       "abort            1451\n",
       "menarche_age     2785\n",
       "menopause_age    3200\n",
       "dtype: int64"
      ]
     },
     "execution_count": 307,
     "metadata": {},
     "output_type": "execute_result"
    }
   ],
   "source": [
    "df.isnull().sum()"
   ]
  },
  {
   "cell_type": "code",
   "execution_count": 308,
   "metadata": {},
   "outputs": [
    {
     "data": {
      "image/png": "[encoded data removed]",
      "text/plain": [
       "<Figure size 1500x600 with 2 Axes>"
      ]
     },
     "metadata": {},
     "output_type": "display_data"
    }
   ],
   "source": [
    "import matplotlib.pyplot as plt\n",
    "import seaborn as sns\n",
    "\n",
    "# Supongamos que tu DataFrame se llama df\n",
    "# Filtra los valores nulos antes de visualizar\n",
    "df_filtrado = df[['menopause_age', 'menarche_age']].dropna()\n",
    "\n",
    "# Configura el estilo de Seaborn para gráficos más atractivos\n",
    "sns.set(style=\"whitegrid\")\n",
    "\n",
    "# Crea una figura con dos subgráficos\n",
    "fig, axes = plt.subplots(nrows=1, ncols=2, figsize=(15, 6))\n",
    "\n",
    "# Subgráfico 1: menopause_age\n",
    "sns.histplot(df_filtrado['menopause_age'], kde=True, bins=30, color='skyblue', ax=axes[0])\n",
    "axes[0].set_title('Distribución de menopause_age')\n",
    "axes[0].set_xlabel('menopause_age')\n",
    "axes[0].set_ylabel('Frecuencia')\n",
    "\n",
    "# Subgráfico 2: menarche_age\n",
    "sns.histplot(df_filtrado['menarche_age'], kde=True, bins=30, color='salmon', ax=axes[1])\n",
    "axes[1].set_title('Distribución de menarche_age')\n",
    "axes[1].set_xlabel('menarche_age')\n",
    "axes[1].set_ylabel('Frecuencia')\n",
    "\n",
    "# Ajusta el diseño de la figura\n",
    "plt.tight_layout()\n",
    "plt.show()\n"
   ]
  },
  {
   "cell_type": "markdown",
   "metadata": {},
   "source": [
    "**Imputación con la Media:**\n",
    "\n",
    "- Ventajas:\n",
    "    - Apropiada para variables con distribución simétrica.\n",
    "    - Puede ser más sensible a cambios en los valores extremos (outliers).\n",
    "- Desventajas:\n",
    "    - Sensible a los outliers: si tienes valores extremos, la media puede sesgarse.\n",
    "    - No es robusta: puede no ser representativa si la distribución no es simétrica.\n",
    "\n",
    "**Imputación con la Mediana:**\n",
    "\n",
    "- Ventajas:\n",
    "    - Robusta a valores extremos: la mediana es menos sensible a los outliers.\n",
    "    - Apropiada para variables con distribuciones sesgadas.\n",
    "- Desventajas:\n",
    "    - Menos eficiente cuando la distribución es aproximadamente simétrica.\n",
    "\n",
    "**¿Cuándo elegir la Media o la Mediana?**\n",
    "\n",
    "- Distribución Simétrica:\n",
    "    - Si la variable sigue una distribución normal o aproximadamente normal, la media puede ser una elección razonable."
   ]
  },
  {
   "cell_type": "markdown",
   "metadata": {},
   "source": [
    "Debido a que no tenemos más información sobre menarche_age, edad de la primera menstruación , tomando referencias algunos estudios , se dice que la edad media es en torno a los 12 años, en eras de ellos, vamos a considerar valores entre 10 y 20 años , el resto los imputamos a nulos y posteriormente imputaremos los nulos con la media de los valores que tengamos, decidimos la media porque la distrubucción parece *SIMÉTRICA*. Es por ello, que consideramos valores menores a 10 y mayores a 20 como datos atípicos o que principalmente hayan sido tomados de manera errónea."
   ]
  },
  {
   "cell_type": "code",
   "execution_count": 309,
   "metadata": {},
   "outputs": [
    {
     "data": {
      "text/plain": [
       "13.0    1005\n",
       "12.0     872\n",
       "14.0     731\n",
       "11.0     571\n",
       "15.0     403\n",
       "10.0     254\n",
       "16.0     182\n",
       "9.0      131\n",
       "17.0      93\n",
       "7.0       91\n",
       "6.0       81\n",
       "8.0       81\n",
       "18.0      80\n",
       "19.0      71\n",
       "20.0      58\n",
       "5.0       45\n",
       "21.0      40\n",
       "22.0      28\n",
       "4.0       26\n",
       "3.0       17\n",
       "23.0      14\n",
       "2.0        8\n",
       "1.0        6\n",
       "24.0       5\n",
       "0.0        4\n",
       "25.0       3\n",
       "26.0       1\n",
       "Name: menarche_age, dtype: int64"
      ]
     },
     "execution_count": 309,
     "metadata": {},
     "output_type": "execute_result"
    }
   ],
   "source": [
    "# Utiliza value_counts() para contar cuántas veces aparece cada valor en \"menarche_age\"\n",
    "conteo_menarche_age = df['menarche_age'].value_counts()\n",
    "conteo_menarche_age"
   ]
  },
  {
   "cell_type": "code",
   "execution_count": 310,
   "metadata": {},
   "outputs": [
    {
     "data": {
      "text/html": [
       "<div>\n",
       "<style scoped>\n",
       "    .dataframe tbody tr th:only-of-type {\n",
       "        vertical-align: middle;\n",
       "    }\n",
       "\n",
       "    .dataframe tbody tr th {\n",
       "        vertical-align: top;\n",
       "    }\n",
       "\n",
       "    .dataframe thead th {\n",
       "        text-align: right;\n",
       "    }\n",
       "</style>\n",
       "<table border=\"1\" class=\"dataframe\">\n",
       "  <thead>\n",
       "    <tr style=\"text-align: right;\">\n",
       "      <th></th>\n",
       "      <th>ehr</th>\n",
       "      <th>pregnancy</th>\n",
       "      <th>birth</th>\n",
       "      <th>caesarean</th>\n",
       "      <th>abort</th>\n",
       "      <th>menarche_age</th>\n",
       "      <th>menopause_age</th>\n",
       "    </tr>\n",
       "  </thead>\n",
       "  <tbody>\n",
       "    <tr>\n",
       "      <th>0</th>\n",
       "      <td>10011773</td>\n",
       "      <td>-8.0</td>\n",
       "      <td>0.0</td>\n",
       "      <td>NaN</td>\n",
       "      <td>0.0</td>\n",
       "      <td>13.0</td>\n",
       "      <td>71.0</td>\n",
       "    </tr>\n",
       "    <tr>\n",
       "      <th>1</th>\n",
       "      <td>10030299</td>\n",
       "      <td>3.0</td>\n",
       "      <td>NaN</td>\n",
       "      <td>0.0</td>\n",
       "      <td>0.0</td>\n",
       "      <td>13.0</td>\n",
       "      <td>NaN</td>\n",
       "    </tr>\n",
       "    <tr>\n",
       "      <th>2</th>\n",
       "      <td>10030824</td>\n",
       "      <td>0.0</td>\n",
       "      <td>0.0</td>\n",
       "      <td>0.0</td>\n",
       "      <td>NaN</td>\n",
       "      <td>13.0</td>\n",
       "      <td>44.0</td>\n",
       "    </tr>\n",
       "    <tr>\n",
       "      <th>3</th>\n",
       "      <td>10053435</td>\n",
       "      <td>2.0</td>\n",
       "      <td>NaN</td>\n",
       "      <td>0.0</td>\n",
       "      <td>1.0</td>\n",
       "      <td>13.0</td>\n",
       "      <td>74.0</td>\n",
       "    </tr>\n",
       "    <tr>\n",
       "      <th>4</th>\n",
       "      <td>10111454</td>\n",
       "      <td>0.0</td>\n",
       "      <td>-6.0</td>\n",
       "      <td>NaN</td>\n",
       "      <td>0.0</td>\n",
       "      <td>16.0</td>\n",
       "      <td>55.0</td>\n",
       "    </tr>\n",
       "    <tr>\n",
       "      <th>...</th>\n",
       "      <td>...</td>\n",
       "      <td>...</td>\n",
       "      <td>...</td>\n",
       "      <td>...</td>\n",
       "      <td>...</td>\n",
       "      <td>...</td>\n",
       "      <td>...</td>\n",
       "    </tr>\n",
       "    <tr>\n",
       "      <th>7681</th>\n",
       "      <td>99948591</td>\n",
       "      <td>9.0</td>\n",
       "      <td>2.0</td>\n",
       "      <td>-4.0</td>\n",
       "      <td>0.0</td>\n",
       "      <td>12.0</td>\n",
       "      <td>47.0</td>\n",
       "    </tr>\n",
       "    <tr>\n",
       "      <th>7682</th>\n",
       "      <td>99961100</td>\n",
       "      <td>2.0</td>\n",
       "      <td>2.0</td>\n",
       "      <td>0.0</td>\n",
       "      <td>0.0</td>\n",
       "      <td>19.0</td>\n",
       "      <td>52.0</td>\n",
       "    </tr>\n",
       "    <tr>\n",
       "      <th>7683</th>\n",
       "      <td>99981192</td>\n",
       "      <td>3.0</td>\n",
       "      <td>3.0</td>\n",
       "      <td>0.0</td>\n",
       "      <td>-5.0</td>\n",
       "      <td>11.0</td>\n",
       "      <td>NaN</td>\n",
       "    </tr>\n",
       "    <tr>\n",
       "      <th>7684</th>\n",
       "      <td>99992350</td>\n",
       "      <td>4.0</td>\n",
       "      <td>3.0</td>\n",
       "      <td>NaN</td>\n",
       "      <td>-6.0</td>\n",
       "      <td>11.0</td>\n",
       "      <td>55.0</td>\n",
       "    </tr>\n",
       "    <tr>\n",
       "      <th>7685</th>\n",
       "      <td>99994417</td>\n",
       "      <td>2.0</td>\n",
       "      <td>-6.0</td>\n",
       "      <td>NaN</td>\n",
       "      <td>NaN</td>\n",
       "      <td>13.0</td>\n",
       "      <td>NaN</td>\n",
       "    </tr>\n",
       "  </tbody>\n",
       "</table>\n",
       "<p>7686 rows × 7 columns</p>\n",
       "</div>"
      ],
      "text/plain": [
       "           ehr  pregnancy  birth  caesarean  abort  menarche_age  \\\n",
       "0     10011773       -8.0    0.0        NaN    0.0          13.0   \n",
       "1     10030299        3.0    NaN        0.0    0.0          13.0   \n",
       "2     10030824        0.0    0.0        0.0    NaN          13.0   \n",
       "3     10053435        2.0    NaN        0.0    1.0          13.0   \n",
       "4     10111454        0.0   -6.0        NaN    0.0          16.0   \n",
       "...        ...        ...    ...        ...    ...           ...   \n",
       "7681  99948591        9.0    2.0       -4.0    0.0          12.0   \n",
       "7682  99961100        2.0    2.0        0.0    0.0          19.0   \n",
       "7683  99981192        3.0    3.0        0.0   -5.0          11.0   \n",
       "7684  99992350        4.0    3.0        NaN   -6.0          11.0   \n",
       "7685  99994417        2.0   -6.0        NaN    NaN          13.0   \n",
       "\n",
       "      menopause_age  \n",
       "0              71.0  \n",
       "1               NaN  \n",
       "2              44.0  \n",
       "3              74.0  \n",
       "4              55.0  \n",
       "...             ...  \n",
       "7681           47.0  \n",
       "7682           52.0  \n",
       "7683            NaN  \n",
       "7684           55.0  \n",
       "7685            NaN  \n",
       "\n",
       "[7686 rows x 7 columns]"
      ]
     },
     "execution_count": 310,
     "metadata": {},
     "output_type": "execute_result"
    }
   ],
   "source": [
    "# Establecer como NaN los valores menores que 10 o mayores que 20\n",
    "df.loc[(df['menarche_age'] < 10) | (df['menarche_age'] > 20), 'menarche_age'] = pd.NA\n",
    "\n",
    "# Imputar los valores nulos con la mediana\n",
    "mediana_menarche_age = df['menarche_age'].mean()\n",
    "mediana_menarche_age_int = round(mediana_menarche_age)  # Redondear a entero\n",
    "df['menarche_age'].fillna(mediana_menarche_age_int, inplace=True)\n",
    "\n",
    "df"
   ]
  },
  {
   "cell_type": "markdown",
   "metadata": {},
   "source": [
    "En el caso de la menopausia, llevamos a cabo una situación similar, estudios confirman que la edad media a la que esto ocurre son los 50 años, variando entre los 45 y 55 años según factores ambientales y genéticos, y se considera menopausia precoz cuando ocurre antes de los 45 años siendo en ese caso tributaria de tratamiento hormonal."
   ]
  },
  {
   "cell_type": "markdown",
   "metadata": {},
   "source": [
    "Por ello, nosotros vamos a considerar esencialmente un rango desde los 37 hasta los 62, dentro de este rango se tomarán esos valores, imputando el resto a nulos y posteriormente con la mediana de la columna asociada, es decir, siguiendo un enfoque similar al anterior"
   ]
  },
  {
   "cell_type": "code",
   "execution_count": 311,
   "metadata": {},
   "outputs": [
    {
     "data": {
      "text/plain": [
       "48.0     310\n",
       "49.0     294\n",
       "47.0     283\n",
       "46.0     255\n",
       "52.0     253\n",
       "        ... \n",
       "85.0       1\n",
       "110.0      1\n",
       "5.0        1\n",
       "4.0        1\n",
       "2.0        1\n",
       "Name: menopause_age, Length: 126, dtype: int64"
      ]
     },
     "execution_count": 311,
     "metadata": {},
     "output_type": "execute_result"
    }
   ],
   "source": [
    "# Utiliza value_counts() para contar cuántas veces aparece cada valor en \"menarche_age\"\n",
    "conteo_menopause_age = df['menopause_age'].value_counts()\n",
    "conteo_menopause_age"
   ]
  },
  {
   "cell_type": "code",
   "execution_count": 312,
   "metadata": {},
   "outputs": [
    {
     "data": {
      "text/html": [
       "<div>\n",
       "<style scoped>\n",
       "    .dataframe tbody tr th:only-of-type {\n",
       "        vertical-align: middle;\n",
       "    }\n",
       "\n",
       "    .dataframe tbody tr th {\n",
       "        vertical-align: top;\n",
       "    }\n",
       "\n",
       "    .dataframe thead th {\n",
       "        text-align: right;\n",
       "    }\n",
       "</style>\n",
       "<table border=\"1\" class=\"dataframe\">\n",
       "  <thead>\n",
       "    <tr style=\"text-align: right;\">\n",
       "      <th></th>\n",
       "      <th>ehr</th>\n",
       "      <th>pregnancy</th>\n",
       "      <th>birth</th>\n",
       "      <th>caesarean</th>\n",
       "      <th>abort</th>\n",
       "      <th>menarche_age</th>\n",
       "      <th>menopause_age</th>\n",
       "    </tr>\n",
       "  </thead>\n",
       "  <tbody>\n",
       "    <tr>\n",
       "      <th>0</th>\n",
       "      <td>10011773</td>\n",
       "      <td>-8.0</td>\n",
       "      <td>0.0</td>\n",
       "      <td>NaN</td>\n",
       "      <td>0.0</td>\n",
       "      <td>13.0</td>\n",
       "      <td>49.0</td>\n",
       "    </tr>\n",
       "    <tr>\n",
       "      <th>1</th>\n",
       "      <td>10030299</td>\n",
       "      <td>3.0</td>\n",
       "      <td>NaN</td>\n",
       "      <td>0.0</td>\n",
       "      <td>0.0</td>\n",
       "      <td>13.0</td>\n",
       "      <td>49.0</td>\n",
       "    </tr>\n",
       "    <tr>\n",
       "      <th>2</th>\n",
       "      <td>10030824</td>\n",
       "      <td>0.0</td>\n",
       "      <td>0.0</td>\n",
       "      <td>0.0</td>\n",
       "      <td>NaN</td>\n",
       "      <td>13.0</td>\n",
       "      <td>44.0</td>\n",
       "    </tr>\n",
       "    <tr>\n",
       "      <th>3</th>\n",
       "      <td>10053435</td>\n",
       "      <td>2.0</td>\n",
       "      <td>NaN</td>\n",
       "      <td>0.0</td>\n",
       "      <td>1.0</td>\n",
       "      <td>13.0</td>\n",
       "      <td>49.0</td>\n",
       "    </tr>\n",
       "    <tr>\n",
       "      <th>4</th>\n",
       "      <td>10111454</td>\n",
       "      <td>0.0</td>\n",
       "      <td>-6.0</td>\n",
       "      <td>NaN</td>\n",
       "      <td>0.0</td>\n",
       "      <td>16.0</td>\n",
       "      <td>55.0</td>\n",
       "    </tr>\n",
       "    <tr>\n",
       "      <th>...</th>\n",
       "      <td>...</td>\n",
       "      <td>...</td>\n",
       "      <td>...</td>\n",
       "      <td>...</td>\n",
       "      <td>...</td>\n",
       "      <td>...</td>\n",
       "      <td>...</td>\n",
       "    </tr>\n",
       "    <tr>\n",
       "      <th>7681</th>\n",
       "      <td>99948591</td>\n",
       "      <td>9.0</td>\n",
       "      <td>2.0</td>\n",
       "      <td>-4.0</td>\n",
       "      <td>0.0</td>\n",
       "      <td>12.0</td>\n",
       "      <td>47.0</td>\n",
       "    </tr>\n",
       "    <tr>\n",
       "      <th>7682</th>\n",
       "      <td>99961100</td>\n",
       "      <td>2.0</td>\n",
       "      <td>2.0</td>\n",
       "      <td>0.0</td>\n",
       "      <td>0.0</td>\n",
       "      <td>19.0</td>\n",
       "      <td>52.0</td>\n",
       "    </tr>\n",
       "    <tr>\n",
       "      <th>7683</th>\n",
       "      <td>99981192</td>\n",
       "      <td>3.0</td>\n",
       "      <td>3.0</td>\n",
       "      <td>0.0</td>\n",
       "      <td>-5.0</td>\n",
       "      <td>11.0</td>\n",
       "      <td>49.0</td>\n",
       "    </tr>\n",
       "    <tr>\n",
       "      <th>7684</th>\n",
       "      <td>99992350</td>\n",
       "      <td>4.0</td>\n",
       "      <td>3.0</td>\n",
       "      <td>NaN</td>\n",
       "      <td>-6.0</td>\n",
       "      <td>11.0</td>\n",
       "      <td>55.0</td>\n",
       "    </tr>\n",
       "    <tr>\n",
       "      <th>7685</th>\n",
       "      <td>99994417</td>\n",
       "      <td>2.0</td>\n",
       "      <td>-6.0</td>\n",
       "      <td>NaN</td>\n",
       "      <td>NaN</td>\n",
       "      <td>13.0</td>\n",
       "      <td>49.0</td>\n",
       "    </tr>\n",
       "  </tbody>\n",
       "</table>\n",
       "<p>7686 rows × 7 columns</p>\n",
       "</div>"
      ],
      "text/plain": [
       "           ehr  pregnancy  birth  caesarean  abort  menarche_age  \\\n",
       "0     10011773       -8.0    0.0        NaN    0.0          13.0   \n",
       "1     10030299        3.0    NaN        0.0    0.0          13.0   \n",
       "2     10030824        0.0    0.0        0.0    NaN          13.0   \n",
       "3     10053435        2.0    NaN        0.0    1.0          13.0   \n",
       "4     10111454        0.0   -6.0        NaN    0.0          16.0   \n",
       "...        ...        ...    ...        ...    ...           ...   \n",
       "7681  99948591        9.0    2.0       -4.0    0.0          12.0   \n",
       "7682  99961100        2.0    2.0        0.0    0.0          19.0   \n",
       "7683  99981192        3.0    3.0        0.0   -5.0          11.0   \n",
       "7684  99992350        4.0    3.0        NaN   -6.0          11.0   \n",
       "7685  99994417        2.0   -6.0        NaN    NaN          13.0   \n",
       "\n",
       "      menopause_age  \n",
       "0              49.0  \n",
       "1              49.0  \n",
       "2              44.0  \n",
       "3              49.0  \n",
       "4              55.0  \n",
       "...             ...  \n",
       "7681           47.0  \n",
       "7682           52.0  \n",
       "7683           49.0  \n",
       "7684           55.0  \n",
       "7685           49.0  \n",
       "\n",
       "[7686 rows x 7 columns]"
      ]
     },
     "execution_count": 312,
     "metadata": {},
     "output_type": "execute_result"
    }
   ],
   "source": [
    "# Establecer como NaN los valores menores que 10 o mayores que 20\n",
    "df.loc[(df['menopause_age'] < 37) | (df['menopause_age'] > 62), 'menopause_age'] = pd.NA\n",
    "\n",
    "# Imputar los valores nulos con la mediana\n",
    "mediana_menarche_age = df['menopause_age'].median()\n",
    "df['menopause_age'].fillna(mediana_menarche_age, inplace=True)\n",
    "df\n",
    "#Es lógico, puesto que la mediana sale aproximadamente 49 lo que nos puede servir."
   ]
  },
  {
   "cell_type": "code",
   "execution_count": 313,
   "metadata": {},
   "outputs": [
    {
     "data": {
      "text/plain": [
       "ehr                 0\n",
       "pregnancy        1273\n",
       "birth            1269\n",
       "caesarean        1555\n",
       "abort            1451\n",
       "menarche_age        0\n",
       "menopause_age       0\n",
       "dtype: int64"
      ]
     },
     "execution_count": 313,
     "metadata": {},
     "output_type": "execute_result"
    }
   ],
   "source": [
    "df.isnull().sum()"
   ]
  },
  {
   "cell_type": "code",
   "execution_count": 314,
   "metadata": {},
   "outputs": [
    {
     "data": {
      "text/plain": [
       "False"
      ]
     },
     "execution_count": 314,
     "metadata": {},
     "output_type": "execute_result"
    }
   ],
   "source": [
    "df['ehr'].duplicated().any()"
   ]
  },
  {
   "cell_type": "markdown",
   "metadata": {},
   "source": [
    "Vemos que no tenemos ningún duplicado en cuanto al EHR lo que nos delimita que todos los pacientes son únicos"
   ]
  },
  {
   "cell_type": "markdown",
   "metadata": {},
   "source": [
    "**Se toma una decisión importante, y como expertos en el dominio de los datos, hemos considerado que la variable pregancy sea la de mayor importancia, en el sentido de que tiene datos tomados REALES, por ello se decide poner los valores negativos de la misma a 0**"
   ]
  },
  {
   "cell_type": "code",
   "execution_count": 315,
   "metadata": {},
   "outputs": [
    {
     "data": {
      "text/html": [
       "<div>\n",
       "<style scoped>\n",
       "    .dataframe tbody tr th:only-of-type {\n",
       "        vertical-align: middle;\n",
       "    }\n",
       "\n",
       "    .dataframe tbody tr th {\n",
       "        vertical-align: top;\n",
       "    }\n",
       "\n",
       "    .dataframe thead th {\n",
       "        text-align: right;\n",
       "    }\n",
       "</style>\n",
       "<table border=\"1\" class=\"dataframe\">\n",
       "  <thead>\n",
       "    <tr style=\"text-align: right;\">\n",
       "      <th></th>\n",
       "      <th>ehr</th>\n",
       "      <th>pregnancy</th>\n",
       "      <th>birth</th>\n",
       "      <th>caesarean</th>\n",
       "      <th>abort</th>\n",
       "      <th>menarche_age</th>\n",
       "      <th>menopause_age</th>\n",
       "    </tr>\n",
       "  </thead>\n",
       "  <tbody>\n",
       "    <tr>\n",
       "      <th>count</th>\n",
       "      <td>7.686000e+03</td>\n",
       "      <td>6413.000000</td>\n",
       "      <td>6417.000000</td>\n",
       "      <td>6131.000000</td>\n",
       "      <td>6235.000000</td>\n",
       "      <td>7686.000000</td>\n",
       "      <td>7686.000000</td>\n",
       "    </tr>\n",
       "    <tr>\n",
       "      <th>mean</th>\n",
       "      <td>5.505640e+07</td>\n",
       "      <td>2.078590</td>\n",
       "      <td>1.673991</td>\n",
       "      <td>0.029848</td>\n",
       "      <td>0.259984</td>\n",
       "      <td>13.118527</td>\n",
       "      <td>48.858054</td>\n",
       "    </tr>\n",
       "    <tr>\n",
       "      <th>std</th>\n",
       "      <td>2.621591e+07</td>\n",
       "      <td>3.052473</td>\n",
       "      <td>3.006228</td>\n",
       "      <td>2.677790</td>\n",
       "      <td>2.691482</td>\n",
       "      <td>1.538955</td>\n",
       "      <td>3.152678</td>\n",
       "    </tr>\n",
       "    <tr>\n",
       "      <th>min</th>\n",
       "      <td>1.001177e+07</td>\n",
       "      <td>-10.000000</td>\n",
       "      <td>-10.000000</td>\n",
       "      <td>-11.000000</td>\n",
       "      <td>-12.000000</td>\n",
       "      <td>10.000000</td>\n",
       "      <td>37.000000</td>\n",
       "    </tr>\n",
       "    <tr>\n",
       "      <th>25%</th>\n",
       "      <td>3.202165e+07</td>\n",
       "      <td>1.000000</td>\n",
       "      <td>0.000000</td>\n",
       "      <td>0.000000</td>\n",
       "      <td>0.000000</td>\n",
       "      <td>13.000000</td>\n",
       "      <td>49.000000</td>\n",
       "    </tr>\n",
       "    <tr>\n",
       "      <th>50%</th>\n",
       "      <td>5.503108e+07</td>\n",
       "      <td>2.000000</td>\n",
       "      <td>2.000000</td>\n",
       "      <td>0.000000</td>\n",
       "      <td>0.000000</td>\n",
       "      <td>13.000000</td>\n",
       "      <td>49.000000</td>\n",
       "    </tr>\n",
       "    <tr>\n",
       "      <th>75%</th>\n",
       "      <td>7.794185e+07</td>\n",
       "      <td>3.000000</td>\n",
       "      <td>3.000000</td>\n",
       "      <td>0.000000</td>\n",
       "      <td>1.000000</td>\n",
       "      <td>13.000000</td>\n",
       "      <td>49.000000</td>\n",
       "    </tr>\n",
       "    <tr>\n",
       "      <th>max</th>\n",
       "      <td>9.999442e+07</td>\n",
       "      <td>14.000000</td>\n",
       "      <td>15.000000</td>\n",
       "      <td>12.000000</td>\n",
       "      <td>12.000000</td>\n",
       "      <td>20.000000</td>\n",
       "      <td>62.000000</td>\n",
       "    </tr>\n",
       "  </tbody>\n",
       "</table>\n",
       "</div>"
      ],
      "text/plain": [
       "                ehr    pregnancy        birth    caesarean        abort  \\\n",
       "count  7.686000e+03  6413.000000  6417.000000  6131.000000  6235.000000   \n",
       "mean   5.505640e+07     2.078590     1.673991     0.029848     0.259984   \n",
       "std    2.621591e+07     3.052473     3.006228     2.677790     2.691482   \n",
       "min    1.001177e+07   -10.000000   -10.000000   -11.000000   -12.000000   \n",
       "25%    3.202165e+07     1.000000     0.000000     0.000000     0.000000   \n",
       "50%    5.503108e+07     2.000000     2.000000     0.000000     0.000000   \n",
       "75%    7.794185e+07     3.000000     3.000000     0.000000     1.000000   \n",
       "max    9.999442e+07    14.000000    15.000000    12.000000    12.000000   \n",
       "\n",
       "       menarche_age  menopause_age  \n",
       "count   7686.000000    7686.000000  \n",
       "mean      13.118527      48.858054  \n",
       "std        1.538955       3.152678  \n",
       "min       10.000000      37.000000  \n",
       "25%       13.000000      49.000000  \n",
       "50%       13.000000      49.000000  \n",
       "75%       13.000000      49.000000  \n",
       "max       20.000000      62.000000  "
      ]
     },
     "execution_count": 315,
     "metadata": {},
     "output_type": "execute_result"
    }
   ],
   "source": [
    "df.describe()"
   ]
  },
  {
   "cell_type": "code",
   "execution_count": 316,
   "metadata": {},
   "outputs": [
    {
     "data": {
      "text/html": [
       "<div>\n",
       "<style scoped>\n",
       "    .dataframe tbody tr th:only-of-type {\n",
       "        vertical-align: middle;\n",
       "    }\n",
       "\n",
       "    .dataframe tbody tr th {\n",
       "        vertical-align: top;\n",
       "    }\n",
       "\n",
       "    .dataframe thead th {\n",
       "        text-align: right;\n",
       "    }\n",
       "</style>\n",
       "<table border=\"1\" class=\"dataframe\">\n",
       "  <thead>\n",
       "    <tr style=\"text-align: right;\">\n",
       "      <th></th>\n",
       "      <th>ehr</th>\n",
       "      <th>pregnancy</th>\n",
       "      <th>birth</th>\n",
       "      <th>caesarean</th>\n",
       "      <th>abort</th>\n",
       "      <th>menarche_age</th>\n",
       "      <th>menopause_age</th>\n",
       "    </tr>\n",
       "  </thead>\n",
       "  <tbody>\n",
       "    <tr>\n",
       "      <th>0</th>\n",
       "      <td>10011773</td>\n",
       "      <td>0.0</td>\n",
       "      <td>0.0</td>\n",
       "      <td>NaN</td>\n",
       "      <td>0.0</td>\n",
       "      <td>13.0</td>\n",
       "      <td>49.0</td>\n",
       "    </tr>\n",
       "    <tr>\n",
       "      <th>1</th>\n",
       "      <td>10030299</td>\n",
       "      <td>3.0</td>\n",
       "      <td>NaN</td>\n",
       "      <td>0.0</td>\n",
       "      <td>0.0</td>\n",
       "      <td>13.0</td>\n",
       "      <td>49.0</td>\n",
       "    </tr>\n",
       "    <tr>\n",
       "      <th>2</th>\n",
       "      <td>10030824</td>\n",
       "      <td>0.0</td>\n",
       "      <td>0.0</td>\n",
       "      <td>0.0</td>\n",
       "      <td>NaN</td>\n",
       "      <td>13.0</td>\n",
       "      <td>44.0</td>\n",
       "    </tr>\n",
       "    <tr>\n",
       "      <th>3</th>\n",
       "      <td>10053435</td>\n",
       "      <td>2.0</td>\n",
       "      <td>NaN</td>\n",
       "      <td>0.0</td>\n",
       "      <td>1.0</td>\n",
       "      <td>13.0</td>\n",
       "      <td>49.0</td>\n",
       "    </tr>\n",
       "    <tr>\n",
       "      <th>4</th>\n",
       "      <td>10111454</td>\n",
       "      <td>0.0</td>\n",
       "      <td>-6.0</td>\n",
       "      <td>NaN</td>\n",
       "      <td>0.0</td>\n",
       "      <td>16.0</td>\n",
       "      <td>55.0</td>\n",
       "    </tr>\n",
       "    <tr>\n",
       "      <th>...</th>\n",
       "      <td>...</td>\n",
       "      <td>...</td>\n",
       "      <td>...</td>\n",
       "      <td>...</td>\n",
       "      <td>...</td>\n",
       "      <td>...</td>\n",
       "      <td>...</td>\n",
       "    </tr>\n",
       "    <tr>\n",
       "      <th>7681</th>\n",
       "      <td>99948591</td>\n",
       "      <td>9.0</td>\n",
       "      <td>2.0</td>\n",
       "      <td>-4.0</td>\n",
       "      <td>0.0</td>\n",
       "      <td>12.0</td>\n",
       "      <td>47.0</td>\n",
       "    </tr>\n",
       "    <tr>\n",
       "      <th>7682</th>\n",
       "      <td>99961100</td>\n",
       "      <td>2.0</td>\n",
       "      <td>2.0</td>\n",
       "      <td>0.0</td>\n",
       "      <td>0.0</td>\n",
       "      <td>19.0</td>\n",
       "      <td>52.0</td>\n",
       "    </tr>\n",
       "    <tr>\n",
       "      <th>7683</th>\n",
       "      <td>99981192</td>\n",
       "      <td>3.0</td>\n",
       "      <td>3.0</td>\n",
       "      <td>0.0</td>\n",
       "      <td>-5.0</td>\n",
       "      <td>11.0</td>\n",
       "      <td>49.0</td>\n",
       "    </tr>\n",
       "    <tr>\n",
       "      <th>7684</th>\n",
       "      <td>99992350</td>\n",
       "      <td>4.0</td>\n",
       "      <td>3.0</td>\n",
       "      <td>NaN</td>\n",
       "      <td>-6.0</td>\n",
       "      <td>11.0</td>\n",
       "      <td>55.0</td>\n",
       "    </tr>\n",
       "    <tr>\n",
       "      <th>7685</th>\n",
       "      <td>99994417</td>\n",
       "      <td>2.0</td>\n",
       "      <td>-6.0</td>\n",
       "      <td>NaN</td>\n",
       "      <td>NaN</td>\n",
       "      <td>13.0</td>\n",
       "      <td>49.0</td>\n",
       "    </tr>\n",
       "  </tbody>\n",
       "</table>\n",
       "<p>7686 rows × 7 columns</p>\n",
       "</div>"
      ],
      "text/plain": [
       "           ehr  pregnancy  birth  caesarean  abort  menarche_age  \\\n",
       "0     10011773        0.0    0.0        NaN    0.0          13.0   \n",
       "1     10030299        3.0    NaN        0.0    0.0          13.0   \n",
       "2     10030824        0.0    0.0        0.0    NaN          13.0   \n",
       "3     10053435        2.0    NaN        0.0    1.0          13.0   \n",
       "4     10111454        0.0   -6.0        NaN    0.0          16.0   \n",
       "...        ...        ...    ...        ...    ...           ...   \n",
       "7681  99948591        9.0    2.0       -4.0    0.0          12.0   \n",
       "7682  99961100        2.0    2.0        0.0    0.0          19.0   \n",
       "7683  99981192        3.0    3.0        0.0   -5.0          11.0   \n",
       "7684  99992350        4.0    3.0        NaN   -6.0          11.0   \n",
       "7685  99994417        2.0   -6.0        NaN    NaN          13.0   \n",
       "\n",
       "      menopause_age  \n",
       "0              49.0  \n",
       "1              49.0  \n",
       "2              44.0  \n",
       "3              49.0  \n",
       "4              55.0  \n",
       "...             ...  \n",
       "7681           47.0  \n",
       "7682           52.0  \n",
       "7683           49.0  \n",
       "7684           55.0  \n",
       "7685           49.0  \n",
       "\n",
       "[7686 rows x 7 columns]"
      ]
     },
     "execution_count": 316,
     "metadata": {},
     "output_type": "execute_result"
    }
   ],
   "source": [
    "columnas_a_cero = ['pregnancy']\n",
    "\n",
    "# Aplica una función que establece los valores negativos en 0\n",
    "df[columnas_a_cero] = df[columnas_a_cero].applymap(lambda x: max(0, x))\n",
    "\n",
    "# Imprime el DataFrame resultante\n",
    "df"
   ]
  },
  {
   "cell_type": "markdown",
   "metadata": {},
   "source": [
    "Realizamos ahora que cuando dicha columna es 0, es decir la de pregnancy, el resto de valores de las otras 3 columnas de la cuales dependen , para que sean consistentes, deben de ser 0."
   ]
  },
  {
   "cell_type": "code",
   "execution_count": 317,
   "metadata": {},
   "outputs": [
    {
     "data": {
      "text/html": [
       "<div>\n",
       "<style scoped>\n",
       "    .dataframe tbody tr th:only-of-type {\n",
       "        vertical-align: middle;\n",
       "    }\n",
       "\n",
       "    .dataframe tbody tr th {\n",
       "        vertical-align: top;\n",
       "    }\n",
       "\n",
       "    .dataframe thead th {\n",
       "        text-align: right;\n",
       "    }\n",
       "</style>\n",
       "<table border=\"1\" class=\"dataframe\">\n",
       "  <thead>\n",
       "    <tr style=\"text-align: right;\">\n",
       "      <th></th>\n",
       "      <th>ehr</th>\n",
       "      <th>pregnancy</th>\n",
       "      <th>birth</th>\n",
       "      <th>caesarean</th>\n",
       "      <th>abort</th>\n",
       "      <th>menarche_age</th>\n",
       "      <th>menopause_age</th>\n",
       "    </tr>\n",
       "  </thead>\n",
       "  <tbody>\n",
       "    <tr>\n",
       "      <th>0</th>\n",
       "      <td>10011773</td>\n",
       "      <td>0.0</td>\n",
       "      <td>0.0</td>\n",
       "      <td>0.0</td>\n",
       "      <td>0.0</td>\n",
       "      <td>13.0</td>\n",
       "      <td>49.0</td>\n",
       "    </tr>\n",
       "    <tr>\n",
       "      <th>1</th>\n",
       "      <td>10030299</td>\n",
       "      <td>3.0</td>\n",
       "      <td>NaN</td>\n",
       "      <td>0.0</td>\n",
       "      <td>0.0</td>\n",
       "      <td>13.0</td>\n",
       "      <td>49.0</td>\n",
       "    </tr>\n",
       "    <tr>\n",
       "      <th>2</th>\n",
       "      <td>10030824</td>\n",
       "      <td>0.0</td>\n",
       "      <td>0.0</td>\n",
       "      <td>0.0</td>\n",
       "      <td>0.0</td>\n",
       "      <td>13.0</td>\n",
       "      <td>44.0</td>\n",
       "    </tr>\n",
       "    <tr>\n",
       "      <th>3</th>\n",
       "      <td>10053435</td>\n",
       "      <td>2.0</td>\n",
       "      <td>NaN</td>\n",
       "      <td>0.0</td>\n",
       "      <td>1.0</td>\n",
       "      <td>13.0</td>\n",
       "      <td>49.0</td>\n",
       "    </tr>\n",
       "    <tr>\n",
       "      <th>4</th>\n",
       "      <td>10111454</td>\n",
       "      <td>0.0</td>\n",
       "      <td>0.0</td>\n",
       "      <td>0.0</td>\n",
       "      <td>0.0</td>\n",
       "      <td>16.0</td>\n",
       "      <td>55.0</td>\n",
       "    </tr>\n",
       "    <tr>\n",
       "      <th>...</th>\n",
       "      <td>...</td>\n",
       "      <td>...</td>\n",
       "      <td>...</td>\n",
       "      <td>...</td>\n",
       "      <td>...</td>\n",
       "      <td>...</td>\n",
       "      <td>...</td>\n",
       "    </tr>\n",
       "    <tr>\n",
       "      <th>7681</th>\n",
       "      <td>99948591</td>\n",
       "      <td>9.0</td>\n",
       "      <td>2.0</td>\n",
       "      <td>-4.0</td>\n",
       "      <td>0.0</td>\n",
       "      <td>12.0</td>\n",
       "      <td>47.0</td>\n",
       "    </tr>\n",
       "    <tr>\n",
       "      <th>7682</th>\n",
       "      <td>99961100</td>\n",
       "      <td>2.0</td>\n",
       "      <td>2.0</td>\n",
       "      <td>0.0</td>\n",
       "      <td>0.0</td>\n",
       "      <td>19.0</td>\n",
       "      <td>52.0</td>\n",
       "    </tr>\n",
       "    <tr>\n",
       "      <th>7683</th>\n",
       "      <td>99981192</td>\n",
       "      <td>3.0</td>\n",
       "      <td>3.0</td>\n",
       "      <td>0.0</td>\n",
       "      <td>-5.0</td>\n",
       "      <td>11.0</td>\n",
       "      <td>49.0</td>\n",
       "    </tr>\n",
       "    <tr>\n",
       "      <th>7684</th>\n",
       "      <td>99992350</td>\n",
       "      <td>4.0</td>\n",
       "      <td>3.0</td>\n",
       "      <td>NaN</td>\n",
       "      <td>-6.0</td>\n",
       "      <td>11.0</td>\n",
       "      <td>55.0</td>\n",
       "    </tr>\n",
       "    <tr>\n",
       "      <th>7685</th>\n",
       "      <td>99994417</td>\n",
       "      <td>2.0</td>\n",
       "      <td>-6.0</td>\n",
       "      <td>NaN</td>\n",
       "      <td>NaN</td>\n",
       "      <td>13.0</td>\n",
       "      <td>49.0</td>\n",
       "    </tr>\n",
       "  </tbody>\n",
       "</table>\n",
       "<p>7686 rows × 7 columns</p>\n",
       "</div>"
      ],
      "text/plain": [
       "           ehr  pregnancy  birth  caesarean  abort  menarche_age  \\\n",
       "0     10011773        0.0    0.0        0.0    0.0          13.0   \n",
       "1     10030299        3.0    NaN        0.0    0.0          13.0   \n",
       "2     10030824        0.0    0.0        0.0    0.0          13.0   \n",
       "3     10053435        2.0    NaN        0.0    1.0          13.0   \n",
       "4     10111454        0.0    0.0        0.0    0.0          16.0   \n",
       "...        ...        ...    ...        ...    ...           ...   \n",
       "7681  99948591        9.0    2.0       -4.0    0.0          12.0   \n",
       "7682  99961100        2.0    2.0        0.0    0.0          19.0   \n",
       "7683  99981192        3.0    3.0        0.0   -5.0          11.0   \n",
       "7684  99992350        4.0    3.0        NaN   -6.0          11.0   \n",
       "7685  99994417        2.0   -6.0        NaN    NaN          13.0   \n",
       "\n",
       "      menopause_age  \n",
       "0              49.0  \n",
       "1              49.0  \n",
       "2              44.0  \n",
       "3              49.0  \n",
       "4              55.0  \n",
       "...             ...  \n",
       "7681           47.0  \n",
       "7682           52.0  \n",
       "7683           49.0  \n",
       "7684           55.0  \n",
       "7685           49.0  \n",
       "\n",
       "[7686 rows x 7 columns]"
      ]
     },
     "execution_count": 317,
     "metadata": {},
     "output_type": "execute_result"
    }
   ],
   "source": [
    "columnas_a_cero = ['abort', 'caesarean', 'birth']\n",
    "\n",
    "# Establece a 0 las columnas cuando 'pregnancy' es 0\n",
    "df.loc[df['pregnancy'] == 0, columnas_a_cero] = 0\n",
    "\n",
    "# Imprime el DataFrame resultante\n",
    "df\n"
   ]
  },
  {
   "cell_type": "code",
   "execution_count": 318,
   "metadata": {},
   "outputs": [
    {
     "data": {
      "text/plain": [
       "ehr                0\n",
       "pregnancy          0\n",
       "birth            986\n",
       "caesarean        983\n",
       "abort            931\n",
       "menarche_age       0\n",
       "menopause_age      0\n",
       "dtype: int64"
      ]
     },
     "execution_count": 318,
     "metadata": {},
     "output_type": "execute_result"
    }
   ],
   "source": [
    "df.isnull().sum()"
   ]
  },
  {
   "cell_type": "markdown",
   "metadata": {},
   "source": [
    "Una vez realizada la acción anterior, nos damos cuenta que aquellos valores negativos del resto de columnas , también son incosistentes entonces para aquellos que NO SON NULOS y que son negativos, los establecemos a 0 para que entren en un rango adecuado."
   ]
  },
  {
   "cell_type": "code",
   "execution_count": 319,
   "metadata": {},
   "outputs": [
    {
     "data": {
      "text/html": [
       "<div>\n",
       "<style scoped>\n",
       "    .dataframe tbody tr th:only-of-type {\n",
       "        vertical-align: middle;\n",
       "    }\n",
       "\n",
       "    .dataframe tbody tr th {\n",
       "        vertical-align: top;\n",
       "    }\n",
       "\n",
       "    .dataframe thead th {\n",
       "        text-align: right;\n",
       "    }\n",
       "</style>\n",
       "<table border=\"1\" class=\"dataframe\">\n",
       "  <thead>\n",
       "    <tr style=\"text-align: right;\">\n",
       "      <th></th>\n",
       "      <th>ehr</th>\n",
       "      <th>pregnancy</th>\n",
       "      <th>birth</th>\n",
       "      <th>caesarean</th>\n",
       "      <th>abort</th>\n",
       "      <th>menarche_age</th>\n",
       "      <th>menopause_age</th>\n",
       "    </tr>\n",
       "  </thead>\n",
       "  <tbody>\n",
       "    <tr>\n",
       "      <th>0</th>\n",
       "      <td>10011773</td>\n",
       "      <td>0.0</td>\n",
       "      <td>0.0</td>\n",
       "      <td>0.0</td>\n",
       "      <td>0.0</td>\n",
       "      <td>13.0</td>\n",
       "      <td>49.0</td>\n",
       "    </tr>\n",
       "    <tr>\n",
       "      <th>1</th>\n",
       "      <td>10030299</td>\n",
       "      <td>3.0</td>\n",
       "      <td>NaN</td>\n",
       "      <td>0.0</td>\n",
       "      <td>0.0</td>\n",
       "      <td>13.0</td>\n",
       "      <td>49.0</td>\n",
       "    </tr>\n",
       "    <tr>\n",
       "      <th>2</th>\n",
       "      <td>10030824</td>\n",
       "      <td>0.0</td>\n",
       "      <td>0.0</td>\n",
       "      <td>0.0</td>\n",
       "      <td>0.0</td>\n",
       "      <td>13.0</td>\n",
       "      <td>44.0</td>\n",
       "    </tr>\n",
       "    <tr>\n",
       "      <th>3</th>\n",
       "      <td>10053435</td>\n",
       "      <td>2.0</td>\n",
       "      <td>NaN</td>\n",
       "      <td>0.0</td>\n",
       "      <td>1.0</td>\n",
       "      <td>13.0</td>\n",
       "      <td>49.0</td>\n",
       "    </tr>\n",
       "    <tr>\n",
       "      <th>4</th>\n",
       "      <td>10111454</td>\n",
       "      <td>0.0</td>\n",
       "      <td>0.0</td>\n",
       "      <td>0.0</td>\n",
       "      <td>0.0</td>\n",
       "      <td>16.0</td>\n",
       "      <td>55.0</td>\n",
       "    </tr>\n",
       "    <tr>\n",
       "      <th>...</th>\n",
       "      <td>...</td>\n",
       "      <td>...</td>\n",
       "      <td>...</td>\n",
       "      <td>...</td>\n",
       "      <td>...</td>\n",
       "      <td>...</td>\n",
       "      <td>...</td>\n",
       "    </tr>\n",
       "    <tr>\n",
       "      <th>7681</th>\n",
       "      <td>99948591</td>\n",
       "      <td>9.0</td>\n",
       "      <td>2.0</td>\n",
       "      <td>0.0</td>\n",
       "      <td>0.0</td>\n",
       "      <td>12.0</td>\n",
       "      <td>47.0</td>\n",
       "    </tr>\n",
       "    <tr>\n",
       "      <th>7682</th>\n",
       "      <td>99961100</td>\n",
       "      <td>2.0</td>\n",
       "      <td>2.0</td>\n",
       "      <td>0.0</td>\n",
       "      <td>0.0</td>\n",
       "      <td>19.0</td>\n",
       "      <td>52.0</td>\n",
       "    </tr>\n",
       "    <tr>\n",
       "      <th>7683</th>\n",
       "      <td>99981192</td>\n",
       "      <td>3.0</td>\n",
       "      <td>3.0</td>\n",
       "      <td>0.0</td>\n",
       "      <td>0.0</td>\n",
       "      <td>11.0</td>\n",
       "      <td>49.0</td>\n",
       "    </tr>\n",
       "    <tr>\n",
       "      <th>7684</th>\n",
       "      <td>99992350</td>\n",
       "      <td>4.0</td>\n",
       "      <td>3.0</td>\n",
       "      <td>NaN</td>\n",
       "      <td>0.0</td>\n",
       "      <td>11.0</td>\n",
       "      <td>55.0</td>\n",
       "    </tr>\n",
       "    <tr>\n",
       "      <th>7685</th>\n",
       "      <td>99994417</td>\n",
       "      <td>2.0</td>\n",
       "      <td>0.0</td>\n",
       "      <td>NaN</td>\n",
       "      <td>NaN</td>\n",
       "      <td>13.0</td>\n",
       "      <td>49.0</td>\n",
       "    </tr>\n",
       "  </tbody>\n",
       "</table>\n",
       "<p>7686 rows × 7 columns</p>\n",
       "</div>"
      ],
      "text/plain": [
       "           ehr  pregnancy  birth  caesarean  abort  menarche_age  \\\n",
       "0     10011773        0.0    0.0        0.0    0.0          13.0   \n",
       "1     10030299        3.0    NaN        0.0    0.0          13.0   \n",
       "2     10030824        0.0    0.0        0.0    0.0          13.0   \n",
       "3     10053435        2.0    NaN        0.0    1.0          13.0   \n",
       "4     10111454        0.0    0.0        0.0    0.0          16.0   \n",
       "...        ...        ...    ...        ...    ...           ...   \n",
       "7681  99948591        9.0    2.0        0.0    0.0          12.0   \n",
       "7682  99961100        2.0    2.0        0.0    0.0          19.0   \n",
       "7683  99981192        3.0    3.0        0.0    0.0          11.0   \n",
       "7684  99992350        4.0    3.0        NaN    0.0          11.0   \n",
       "7685  99994417        2.0    0.0        NaN    NaN          13.0   \n",
       "\n",
       "      menopause_age  \n",
       "0              49.0  \n",
       "1              49.0  \n",
       "2              44.0  \n",
       "3              49.0  \n",
       "4              55.0  \n",
       "...             ...  \n",
       "7681           47.0  \n",
       "7682           52.0  \n",
       "7683           49.0  \n",
       "7684           55.0  \n",
       "7685           49.0  \n",
       "\n",
       "[7686 rows x 7 columns]"
      ]
     },
     "execution_count": 319,
     "metadata": {},
     "output_type": "execute_result"
    }
   ],
   "source": [
    "# Reemplazar los valores negativos y no nulos con 0\n",
    "df['birth'] = df['birth'].apply(lambda x: 0 if pd.notna(x) and x < 0 else x)\n",
    "df['caesarean'] = df['caesarean'].apply(lambda x: 0 if pd.notna(x) and x < 0 else x)\n",
    "df['abort'] = df['abort'].apply(lambda x: 0 if pd.notna(x) and x < 0 else x)\n",
    "df"
   ]
  },
  {
   "cell_type": "code",
   "execution_count": 320,
   "metadata": {},
   "outputs": [
    {
     "data": {
      "text/plain": [
       "ehr                0\n",
       "pregnancy          0\n",
       "birth            986\n",
       "caesarean        983\n",
       "abort            931\n",
       "menarche_age       0\n",
       "menopause_age      0\n",
       "dtype: int64"
      ]
     },
     "execution_count": 320,
     "metadata": {},
     "output_type": "execute_result"
    }
   ],
   "source": [
    "df.isnull().sum()"
   ]
  },
  {
   "cell_type": "markdown",
   "metadata": {},
   "source": [
    "Basándonos en la proporción, calculamos algunos valores nulos que podemos denotar de cada una de las columnas, realizando que  la columna de pregnancy es igual a la suma de las otras 3 columnas (abort, birth, caesarean)."
   ]
  },
  {
   "cell_type": "code",
   "execution_count": 321,
   "metadata": {},
   "outputs": [],
   "source": [
    "# Imputar nulos en las columnas birth, caesarean y abort\n",
    "df['birth'] = df['birth'].fillna(df['pregnancy'] - df['caesarean'] - df['abort'])\n",
    "df['caesarean'] = df['caesarean'].fillna(df['pregnancy'] - df['birth'] - df['abort'])\n",
    "df['abort'] = df['abort'].fillna(df['pregnancy'] - df['birth'] - df['caesarean'])"
   ]
  },
  {
   "cell_type": "markdown",
   "metadata": {},
   "source": [
    "Vamos a crear una columna adicional para ver si hay incosistencias... ya que a simple vista surge dudas sobre si las hay , ya que si que parece "
   ]
  },
  {
   "cell_type": "code",
   "execution_count": 322,
   "metadata": {},
   "outputs": [
    {
     "data": {
      "text/html": [
       "<div>\n",
       "<style scoped>\n",
       "    .dataframe tbody tr th:only-of-type {\n",
       "        vertical-align: middle;\n",
       "    }\n",
       "\n",
       "    .dataframe tbody tr th {\n",
       "        vertical-align: top;\n",
       "    }\n",
       "\n",
       "    .dataframe thead th {\n",
       "        text-align: right;\n",
       "    }\n",
       "</style>\n",
       "<table border=\"1\" class=\"dataframe\">\n",
       "  <thead>\n",
       "    <tr style=\"text-align: right;\">\n",
       "      <th></th>\n",
       "      <th>ehr</th>\n",
       "      <th>pregnancy</th>\n",
       "      <th>birth</th>\n",
       "      <th>caesarean</th>\n",
       "      <th>abort</th>\n",
       "      <th>menarche_age</th>\n",
       "      <th>menopause_age</th>\n",
       "      <th>inconsistency</th>\n",
       "    </tr>\n",
       "  </thead>\n",
       "  <tbody>\n",
       "    <tr>\n",
       "      <th>0</th>\n",
       "      <td>10011773</td>\n",
       "      <td>0.0</td>\n",
       "      <td>0.0</td>\n",
       "      <td>0.0</td>\n",
       "      <td>0.0</td>\n",
       "      <td>13.0</td>\n",
       "      <td>49.0</td>\n",
       "      <td>0</td>\n",
       "    </tr>\n",
       "    <tr>\n",
       "      <th>1</th>\n",
       "      <td>10030299</td>\n",
       "      <td>3.0</td>\n",
       "      <td>3.0</td>\n",
       "      <td>0.0</td>\n",
       "      <td>0.0</td>\n",
       "      <td>13.0</td>\n",
       "      <td>49.0</td>\n",
       "      <td>0</td>\n",
       "    </tr>\n",
       "    <tr>\n",
       "      <th>2</th>\n",
       "      <td>10030824</td>\n",
       "      <td>0.0</td>\n",
       "      <td>0.0</td>\n",
       "      <td>0.0</td>\n",
       "      <td>0.0</td>\n",
       "      <td>13.0</td>\n",
       "      <td>44.0</td>\n",
       "      <td>0</td>\n",
       "    </tr>\n",
       "    <tr>\n",
       "      <th>3</th>\n",
       "      <td>10053435</td>\n",
       "      <td>2.0</td>\n",
       "      <td>1.0</td>\n",
       "      <td>0.0</td>\n",
       "      <td>1.0</td>\n",
       "      <td>13.0</td>\n",
       "      <td>49.0</td>\n",
       "      <td>0</td>\n",
       "    </tr>\n",
       "    <tr>\n",
       "      <th>4</th>\n",
       "      <td>10111454</td>\n",
       "      <td>0.0</td>\n",
       "      <td>0.0</td>\n",
       "      <td>0.0</td>\n",
       "      <td>0.0</td>\n",
       "      <td>16.0</td>\n",
       "      <td>55.0</td>\n",
       "      <td>0</td>\n",
       "    </tr>\n",
       "    <tr>\n",
       "      <th>...</th>\n",
       "      <td>...</td>\n",
       "      <td>...</td>\n",
       "      <td>...</td>\n",
       "      <td>...</td>\n",
       "      <td>...</td>\n",
       "      <td>...</td>\n",
       "      <td>...</td>\n",
       "      <td>...</td>\n",
       "    </tr>\n",
       "    <tr>\n",
       "      <th>7681</th>\n",
       "      <td>99948591</td>\n",
       "      <td>9.0</td>\n",
       "      <td>2.0</td>\n",
       "      <td>0.0</td>\n",
       "      <td>0.0</td>\n",
       "      <td>12.0</td>\n",
       "      <td>47.0</td>\n",
       "      <td>1</td>\n",
       "    </tr>\n",
       "    <tr>\n",
       "      <th>7682</th>\n",
       "      <td>99961100</td>\n",
       "      <td>2.0</td>\n",
       "      <td>2.0</td>\n",
       "      <td>0.0</td>\n",
       "      <td>0.0</td>\n",
       "      <td>19.0</td>\n",
       "      <td>52.0</td>\n",
       "      <td>0</td>\n",
       "    </tr>\n",
       "    <tr>\n",
       "      <th>7683</th>\n",
       "      <td>99981192</td>\n",
       "      <td>3.0</td>\n",
       "      <td>3.0</td>\n",
       "      <td>0.0</td>\n",
       "      <td>0.0</td>\n",
       "      <td>11.0</td>\n",
       "      <td>49.0</td>\n",
       "      <td>0</td>\n",
       "    </tr>\n",
       "    <tr>\n",
       "      <th>7684</th>\n",
       "      <td>99992350</td>\n",
       "      <td>4.0</td>\n",
       "      <td>3.0</td>\n",
       "      <td>1.0</td>\n",
       "      <td>0.0</td>\n",
       "      <td>11.0</td>\n",
       "      <td>55.0</td>\n",
       "      <td>0</td>\n",
       "    </tr>\n",
       "    <tr>\n",
       "      <th>7685</th>\n",
       "      <td>99994417</td>\n",
       "      <td>2.0</td>\n",
       "      <td>0.0</td>\n",
       "      <td>NaN</td>\n",
       "      <td>NaN</td>\n",
       "      <td>13.0</td>\n",
       "      <td>49.0</td>\n",
       "      <td>1</td>\n",
       "    </tr>\n",
       "  </tbody>\n",
       "</table>\n",
       "<p>7686 rows × 8 columns</p>\n",
       "</div>"
      ],
      "text/plain": [
       "           ehr  pregnancy  birth  caesarean  abort  menarche_age  \\\n",
       "0     10011773        0.0    0.0        0.0    0.0          13.0   \n",
       "1     10030299        3.0    3.0        0.0    0.0          13.0   \n",
       "2     10030824        0.0    0.0        0.0    0.0          13.0   \n",
       "3     10053435        2.0    1.0        0.0    1.0          13.0   \n",
       "4     10111454        0.0    0.0        0.0    0.0          16.0   \n",
       "...        ...        ...    ...        ...    ...           ...   \n",
       "7681  99948591        9.0    2.0        0.0    0.0          12.0   \n",
       "7682  99961100        2.0    2.0        0.0    0.0          19.0   \n",
       "7683  99981192        3.0    3.0        0.0    0.0          11.0   \n",
       "7684  99992350        4.0    3.0        1.0    0.0          11.0   \n",
       "7685  99994417        2.0    0.0        NaN    NaN          13.0   \n",
       "\n",
       "      menopause_age  inconsistency  \n",
       "0              49.0              0  \n",
       "1              49.0              0  \n",
       "2              44.0              0  \n",
       "3              49.0              0  \n",
       "4              55.0              0  \n",
       "...             ...            ...  \n",
       "7681           47.0              1  \n",
       "7682           52.0              0  \n",
       "7683           49.0              0  \n",
       "7684           55.0              0  \n",
       "7685           49.0              1  \n",
       "\n",
       "[7686 rows x 8 columns]"
      ]
     },
     "execution_count": 322,
     "metadata": {},
     "output_type": "execute_result"
    }
   ],
   "source": [
    "df['inconsistency'] = 0  # Inicializar la columna con 0\n",
    "df.loc[df['pregnancy'] != (df['birth'] + df['caesarean'] + df['abort']), 'inconsistency'] = 1\n",
    "df"
   ]
  },
  {
   "cell_type": "code",
   "execution_count": 323,
   "metadata": {},
   "outputs": [
    {
     "data": {
      "text/html": [
       "<div>\n",
       "<style scoped>\n",
       "    .dataframe tbody tr th:only-of-type {\n",
       "        vertical-align: middle;\n",
       "    }\n",
       "\n",
       "    .dataframe tbody tr th {\n",
       "        vertical-align: top;\n",
       "    }\n",
       "\n",
       "    .dataframe thead th {\n",
       "        text-align: right;\n",
       "    }\n",
       "</style>\n",
       "<table border=\"1\" class=\"dataframe\">\n",
       "  <thead>\n",
       "    <tr style=\"text-align: right;\">\n",
       "      <th></th>\n",
       "      <th>ehr</th>\n",
       "      <th>pregnancy</th>\n",
       "      <th>birth</th>\n",
       "      <th>caesarean</th>\n",
       "      <th>abort</th>\n",
       "      <th>menarche_age</th>\n",
       "      <th>menopause_age</th>\n",
       "      <th>inconsistency</th>\n",
       "    </tr>\n",
       "  </thead>\n",
       "  <tbody>\n",
       "    <tr>\n",
       "      <th>8</th>\n",
       "      <td>10131227</td>\n",
       "      <td>7.0</td>\n",
       "      <td>7.0</td>\n",
       "      <td>NaN</td>\n",
       "      <td>NaN</td>\n",
       "      <td>12.0</td>\n",
       "      <td>49.0</td>\n",
       "      <td>1</td>\n",
       "    </tr>\n",
       "    <tr>\n",
       "      <th>13</th>\n",
       "      <td>10165941</td>\n",
       "      <td>4.0</td>\n",
       "      <td>4.0</td>\n",
       "      <td>0.0</td>\n",
       "      <td>7.0</td>\n",
       "      <td>13.0</td>\n",
       "      <td>49.0</td>\n",
       "      <td>1</td>\n",
       "    </tr>\n",
       "    <tr>\n",
       "      <th>16</th>\n",
       "      <td>10172680</td>\n",
       "      <td>3.0</td>\n",
       "      <td>0.0</td>\n",
       "      <td>7.0</td>\n",
       "      <td>0.0</td>\n",
       "      <td>15.0</td>\n",
       "      <td>52.0</td>\n",
       "      <td>1</td>\n",
       "    </tr>\n",
       "    <tr>\n",
       "      <th>23</th>\n",
       "      <td>10227387</td>\n",
       "      <td>2.0</td>\n",
       "      <td>1.0</td>\n",
       "      <td>3.0</td>\n",
       "      <td>1.0</td>\n",
       "      <td>13.0</td>\n",
       "      <td>49.0</td>\n",
       "      <td>1</td>\n",
       "    </tr>\n",
       "    <tr>\n",
       "      <th>26</th>\n",
       "      <td>10255411</td>\n",
       "      <td>4.0</td>\n",
       "      <td>4.0</td>\n",
       "      <td>6.0</td>\n",
       "      <td>0.0</td>\n",
       "      <td>10.0</td>\n",
       "      <td>47.0</td>\n",
       "      <td>1</td>\n",
       "    </tr>\n",
       "    <tr>\n",
       "      <th>...</th>\n",
       "      <td>...</td>\n",
       "      <td>...</td>\n",
       "      <td>...</td>\n",
       "      <td>...</td>\n",
       "      <td>...</td>\n",
       "      <td>...</td>\n",
       "      <td>...</td>\n",
       "      <td>...</td>\n",
       "    </tr>\n",
       "    <tr>\n",
       "      <th>7672</th>\n",
       "      <td>99812629</td>\n",
       "      <td>1.0</td>\n",
       "      <td>NaN</td>\n",
       "      <td>NaN</td>\n",
       "      <td>0.0</td>\n",
       "      <td>13.0</td>\n",
       "      <td>49.0</td>\n",
       "      <td>1</td>\n",
       "    </tr>\n",
       "    <tr>\n",
       "      <th>7673</th>\n",
       "      <td>99815491</td>\n",
       "      <td>3.0</td>\n",
       "      <td>0.0</td>\n",
       "      <td>0.0</td>\n",
       "      <td>2.0</td>\n",
       "      <td>13.0</td>\n",
       "      <td>49.0</td>\n",
       "      <td>1</td>\n",
       "    </tr>\n",
       "    <tr>\n",
       "      <th>7680</th>\n",
       "      <td>99948515</td>\n",
       "      <td>7.0</td>\n",
       "      <td>2.0</td>\n",
       "      <td>0.0</td>\n",
       "      <td>0.0</td>\n",
       "      <td>11.0</td>\n",
       "      <td>49.0</td>\n",
       "      <td>1</td>\n",
       "    </tr>\n",
       "    <tr>\n",
       "      <th>7681</th>\n",
       "      <td>99948591</td>\n",
       "      <td>9.0</td>\n",
       "      <td>2.0</td>\n",
       "      <td>0.0</td>\n",
       "      <td>0.0</td>\n",
       "      <td>12.0</td>\n",
       "      <td>47.0</td>\n",
       "      <td>1</td>\n",
       "    </tr>\n",
       "    <tr>\n",
       "      <th>7685</th>\n",
       "      <td>99994417</td>\n",
       "      <td>2.0</td>\n",
       "      <td>0.0</td>\n",
       "      <td>NaN</td>\n",
       "      <td>NaN</td>\n",
       "      <td>13.0</td>\n",
       "      <td>49.0</td>\n",
       "      <td>1</td>\n",
       "    </tr>\n",
       "  </tbody>\n",
       "</table>\n",
       "<p>1639 rows × 8 columns</p>\n",
       "</div>"
      ],
      "text/plain": [
       "           ehr  pregnancy  birth  caesarean  abort  menarche_age  \\\n",
       "8     10131227        7.0    7.0        NaN    NaN          12.0   \n",
       "13    10165941        4.0    4.0        0.0    7.0          13.0   \n",
       "16    10172680        3.0    0.0        7.0    0.0          15.0   \n",
       "23    10227387        2.0    1.0        3.0    1.0          13.0   \n",
       "26    10255411        4.0    4.0        6.0    0.0          10.0   \n",
       "...        ...        ...    ...        ...    ...           ...   \n",
       "7672  99812629        1.0    NaN        NaN    0.0          13.0   \n",
       "7673  99815491        3.0    0.0        0.0    2.0          13.0   \n",
       "7680  99948515        7.0    2.0        0.0    0.0          11.0   \n",
       "7681  99948591        9.0    2.0        0.0    0.0          12.0   \n",
       "7685  99994417        2.0    0.0        NaN    NaN          13.0   \n",
       "\n",
       "      menopause_age  inconsistency  \n",
       "8              49.0              1  \n",
       "13             49.0              1  \n",
       "16             52.0              1  \n",
       "23             49.0              1  \n",
       "26             47.0              1  \n",
       "...             ...            ...  \n",
       "7672           49.0              1  \n",
       "7673           49.0              1  \n",
       "7680           49.0              1  \n",
       "7681           47.0              1  \n",
       "7685           49.0              1  \n",
       "\n",
       "[1639 rows x 8 columns]"
      ]
     },
     "execution_count": 323,
     "metadata": {},
     "output_type": "execute_result"
    }
   ],
   "source": [
    "df[df['inconsistency']==1]"
   ]
  },
  {
   "cell_type": "markdown",
   "metadata": {},
   "source": [
    "Obtenemos que 1639 filas , contienen incosistencias, no cumplen con las expectativas, vamos a ver si alguna de ellas se puede imputar o solucionar, el resto, como tenemos datos suficientes, las podemos eliminar sin seguir ningún tipo de criterio."
   ]
  },
  {
   "cell_type": "markdown",
   "metadata": {},
   "source": [
    "Calculamos una función que para aquellos en los que haya 2 nulos, repartimos equitativamente la carga para ambas, en caso de que la fracción no sea entera, entonces no se almacena puesto que no es razonable tener 1.5 partos o 0.5 partos...."
   ]
  },
  {
   "cell_type": "code",
   "execution_count": 324,
   "metadata": {},
   "outputs": [],
   "source": [
    "# Función para distribuir nulos proporcionalmente\n",
    "def distribuir_nulos(fila):\n",
    "    nulos = fila.isnull().sum()  # Contar el número de nulos en la fila\n",
    "    if nulos > 0:\n",
    "        proporciones = fila['pregnancy'] / nulos  # Calcular la distribución proporcional\n",
    "        for col in ['birth', 'caesarean', 'abort']:\n",
    "            if pd.isnull(fila[col]):\n",
    "                valor_proporcion = proporciones\n",
    "                if valor_proporcion.is_integer():  # Verificar si es un número entero\n",
    "                    fila[col] = int(valor_proporcion)\n",
    "    return fila\n",
    "\n",
    "# Aplicar la función a cada fila del DataFrame\n",
    "df = df.apply(distribuir_nulos, axis=1)\n"
   ]
  },
  {
   "cell_type": "code",
   "execution_count": 325,
   "metadata": {},
   "outputs": [
    {
     "data": {
      "text/plain": [
       "ehr                0\n",
       "pregnancy          0\n",
       "birth            215\n",
       "caesarean        210\n",
       "abort            198\n",
       "menarche_age       0\n",
       "menopause_age      0\n",
       "inconsistency      0\n",
       "dtype: int64"
      ]
     },
     "execution_count": 325,
     "metadata": {},
     "output_type": "execute_result"
    }
   ],
   "source": [
    "df.isnull().sum()"
   ]
  },
  {
   "cell_type": "code",
   "execution_count": 326,
   "metadata": {},
   "outputs": [
    {
     "data": {
      "text/html": [
       "<div>\n",
       "<style scoped>\n",
       "    .dataframe tbody tr th:only-of-type {\n",
       "        vertical-align: middle;\n",
       "    }\n",
       "\n",
       "    .dataframe tbody tr th {\n",
       "        vertical-align: top;\n",
       "    }\n",
       "\n",
       "    .dataframe thead th {\n",
       "        text-align: right;\n",
       "    }\n",
       "</style>\n",
       "<table border=\"1\" class=\"dataframe\">\n",
       "  <thead>\n",
       "    <tr style=\"text-align: right;\">\n",
       "      <th></th>\n",
       "      <th>ehr</th>\n",
       "      <th>pregnancy</th>\n",
       "      <th>birth</th>\n",
       "      <th>caesarean</th>\n",
       "      <th>abort</th>\n",
       "      <th>menarche_age</th>\n",
       "      <th>menopause_age</th>\n",
       "      <th>inconsistency</th>\n",
       "    </tr>\n",
       "  </thead>\n",
       "  <tbody>\n",
       "    <tr>\n",
       "      <th>0</th>\n",
       "      <td>10011773.0</td>\n",
       "      <td>0.0</td>\n",
       "      <td>0.0</td>\n",
       "      <td>0.0</td>\n",
       "      <td>0.0</td>\n",
       "      <td>13.0</td>\n",
       "      <td>49.0</td>\n",
       "      <td>0</td>\n",
       "    </tr>\n",
       "    <tr>\n",
       "      <th>1</th>\n",
       "      <td>10030299.0</td>\n",
       "      <td>3.0</td>\n",
       "      <td>3.0</td>\n",
       "      <td>0.0</td>\n",
       "      <td>0.0</td>\n",
       "      <td>13.0</td>\n",
       "      <td>49.0</td>\n",
       "      <td>0</td>\n",
       "    </tr>\n",
       "    <tr>\n",
       "      <th>2</th>\n",
       "      <td>10030824.0</td>\n",
       "      <td>0.0</td>\n",
       "      <td>0.0</td>\n",
       "      <td>0.0</td>\n",
       "      <td>0.0</td>\n",
       "      <td>13.0</td>\n",
       "      <td>44.0</td>\n",
       "      <td>0</td>\n",
       "    </tr>\n",
       "    <tr>\n",
       "      <th>3</th>\n",
       "      <td>10053435.0</td>\n",
       "      <td>2.0</td>\n",
       "      <td>1.0</td>\n",
       "      <td>0.0</td>\n",
       "      <td>1.0</td>\n",
       "      <td>13.0</td>\n",
       "      <td>49.0</td>\n",
       "      <td>0</td>\n",
       "    </tr>\n",
       "    <tr>\n",
       "      <th>4</th>\n",
       "      <td>10111454.0</td>\n",
       "      <td>0.0</td>\n",
       "      <td>0.0</td>\n",
       "      <td>0.0</td>\n",
       "      <td>0.0</td>\n",
       "      <td>16.0</td>\n",
       "      <td>55.0</td>\n",
       "      <td>0</td>\n",
       "    </tr>\n",
       "    <tr>\n",
       "      <th>...</th>\n",
       "      <td>...</td>\n",
       "      <td>...</td>\n",
       "      <td>...</td>\n",
       "      <td>...</td>\n",
       "      <td>...</td>\n",
       "      <td>...</td>\n",
       "      <td>...</td>\n",
       "      <td>...</td>\n",
       "    </tr>\n",
       "    <tr>\n",
       "      <th>7681</th>\n",
       "      <td>99948591.0</td>\n",
       "      <td>9.0</td>\n",
       "      <td>2.0</td>\n",
       "      <td>0.0</td>\n",
       "      <td>0.0</td>\n",
       "      <td>12.0</td>\n",
       "      <td>47.0</td>\n",
       "      <td>1</td>\n",
       "    </tr>\n",
       "    <tr>\n",
       "      <th>7682</th>\n",
       "      <td>99961100.0</td>\n",
       "      <td>2.0</td>\n",
       "      <td>2.0</td>\n",
       "      <td>0.0</td>\n",
       "      <td>0.0</td>\n",
       "      <td>19.0</td>\n",
       "      <td>52.0</td>\n",
       "      <td>0</td>\n",
       "    </tr>\n",
       "    <tr>\n",
       "      <th>7683</th>\n",
       "      <td>99981192.0</td>\n",
       "      <td>3.0</td>\n",
       "      <td>3.0</td>\n",
       "      <td>0.0</td>\n",
       "      <td>0.0</td>\n",
       "      <td>11.0</td>\n",
       "      <td>49.0</td>\n",
       "      <td>0</td>\n",
       "    </tr>\n",
       "    <tr>\n",
       "      <th>7684</th>\n",
       "      <td>99992350.0</td>\n",
       "      <td>4.0</td>\n",
       "      <td>3.0</td>\n",
       "      <td>1.0</td>\n",
       "      <td>0.0</td>\n",
       "      <td>11.0</td>\n",
       "      <td>55.0</td>\n",
       "      <td>0</td>\n",
       "    </tr>\n",
       "    <tr>\n",
       "      <th>7685</th>\n",
       "      <td>99994417.0</td>\n",
       "      <td>2.0</td>\n",
       "      <td>0.0</td>\n",
       "      <td>1.0</td>\n",
       "      <td>1.0</td>\n",
       "      <td>13.0</td>\n",
       "      <td>49.0</td>\n",
       "      <td>0</td>\n",
       "    </tr>\n",
       "  </tbody>\n",
       "</table>\n",
       "<p>7686 rows × 8 columns</p>\n",
       "</div>"
      ],
      "text/plain": [
       "             ehr  pregnancy  birth  caesarean  abort  menarche_age  \\\n",
       "0     10011773.0        0.0    0.0        0.0    0.0          13.0   \n",
       "1     10030299.0        3.0    3.0        0.0    0.0          13.0   \n",
       "2     10030824.0        0.0    0.0        0.0    0.0          13.0   \n",
       "3     10053435.0        2.0    1.0        0.0    1.0          13.0   \n",
       "4     10111454.0        0.0    0.0        0.0    0.0          16.0   \n",
       "...          ...        ...    ...        ...    ...           ...   \n",
       "7681  99948591.0        9.0    2.0        0.0    0.0          12.0   \n",
       "7682  99961100.0        2.0    2.0        0.0    0.0          19.0   \n",
       "7683  99981192.0        3.0    3.0        0.0    0.0          11.0   \n",
       "7684  99992350.0        4.0    3.0        1.0    0.0          11.0   \n",
       "7685  99994417.0        2.0    0.0        1.0    1.0          13.0   \n",
       "\n",
       "      menopause_age  inconsistency  \n",
       "0              49.0              0  \n",
       "1              49.0              0  \n",
       "2              44.0              0  \n",
       "3              49.0              0  \n",
       "4              55.0              0  \n",
       "...             ...            ...  \n",
       "7681           47.0              1  \n",
       "7682           52.0              0  \n",
       "7683           49.0              0  \n",
       "7684           55.0              0  \n",
       "7685           49.0              0  \n",
       "\n",
       "[7686 rows x 8 columns]"
      ]
     },
     "execution_count": 326,
     "metadata": {},
     "output_type": "execute_result"
    }
   ],
   "source": [
    "df['inconsistency'] = 0  # Inicializar la columna con 0\n",
    "df.loc[df['pregnancy'] != (df['birth'] + df['caesarean'] + df['abort']), 'inconsistency'] = 1\n",
    "df"
   ]
  },
  {
   "cell_type": "code",
   "execution_count": 327,
   "metadata": {},
   "outputs": [
    {
     "data": {
      "text/html": [
       "<div>\n",
       "<style scoped>\n",
       "    .dataframe tbody tr th:only-of-type {\n",
       "        vertical-align: middle;\n",
       "    }\n",
       "\n",
       "    .dataframe tbody tr th {\n",
       "        vertical-align: top;\n",
       "    }\n",
       "\n",
       "    .dataframe thead th {\n",
       "        text-align: right;\n",
       "    }\n",
       "</style>\n",
       "<table border=\"1\" class=\"dataframe\">\n",
       "  <thead>\n",
       "    <tr style=\"text-align: right;\">\n",
       "      <th></th>\n",
       "      <th>ehr</th>\n",
       "      <th>pregnancy</th>\n",
       "      <th>birth</th>\n",
       "      <th>caesarean</th>\n",
       "      <th>abort</th>\n",
       "      <th>menarche_age</th>\n",
       "      <th>menopause_age</th>\n",
       "      <th>inconsistency</th>\n",
       "    </tr>\n",
       "  </thead>\n",
       "  <tbody>\n",
       "    <tr>\n",
       "      <th>8</th>\n",
       "      <td>10131227.0</td>\n",
       "      <td>7.0</td>\n",
       "      <td>7.0</td>\n",
       "      <td>NaN</td>\n",
       "      <td>NaN</td>\n",
       "      <td>12.0</td>\n",
       "      <td>49.0</td>\n",
       "      <td>1</td>\n",
       "    </tr>\n",
       "    <tr>\n",
       "      <th>13</th>\n",
       "      <td>10165941.0</td>\n",
       "      <td>4.0</td>\n",
       "      <td>4.0</td>\n",
       "      <td>0.0</td>\n",
       "      <td>7.0</td>\n",
       "      <td>13.0</td>\n",
       "      <td>49.0</td>\n",
       "      <td>1</td>\n",
       "    </tr>\n",
       "    <tr>\n",
       "      <th>16</th>\n",
       "      <td>10172680.0</td>\n",
       "      <td>3.0</td>\n",
       "      <td>0.0</td>\n",
       "      <td>7.0</td>\n",
       "      <td>0.0</td>\n",
       "      <td>15.0</td>\n",
       "      <td>52.0</td>\n",
       "      <td>1</td>\n",
       "    </tr>\n",
       "    <tr>\n",
       "      <th>23</th>\n",
       "      <td>10227387.0</td>\n",
       "      <td>2.0</td>\n",
       "      <td>1.0</td>\n",
       "      <td>3.0</td>\n",
       "      <td>1.0</td>\n",
       "      <td>13.0</td>\n",
       "      <td>49.0</td>\n",
       "      <td>1</td>\n",
       "    </tr>\n",
       "    <tr>\n",
       "      <th>26</th>\n",
       "      <td>10255411.0</td>\n",
       "      <td>4.0</td>\n",
       "      <td>4.0</td>\n",
       "      <td>6.0</td>\n",
       "      <td>0.0</td>\n",
       "      <td>10.0</td>\n",
       "      <td>47.0</td>\n",
       "      <td>1</td>\n",
       "    </tr>\n",
       "    <tr>\n",
       "      <th>...</th>\n",
       "      <td>...</td>\n",
       "      <td>...</td>\n",
       "      <td>...</td>\n",
       "      <td>...</td>\n",
       "      <td>...</td>\n",
       "      <td>...</td>\n",
       "      <td>...</td>\n",
       "      <td>...</td>\n",
       "    </tr>\n",
       "    <tr>\n",
       "      <th>7669</th>\n",
       "      <td>99791778.0</td>\n",
       "      <td>1.0</td>\n",
       "      <td>0.0</td>\n",
       "      <td>0.0</td>\n",
       "      <td>7.0</td>\n",
       "      <td>15.0</td>\n",
       "      <td>53.0</td>\n",
       "      <td>1</td>\n",
       "    </tr>\n",
       "    <tr>\n",
       "      <th>7672</th>\n",
       "      <td>99812629.0</td>\n",
       "      <td>1.0</td>\n",
       "      <td>NaN</td>\n",
       "      <td>NaN</td>\n",
       "      <td>0.0</td>\n",
       "      <td>13.0</td>\n",
       "      <td>49.0</td>\n",
       "      <td>1</td>\n",
       "    </tr>\n",
       "    <tr>\n",
       "      <th>7673</th>\n",
       "      <td>99815491.0</td>\n",
       "      <td>3.0</td>\n",
       "      <td>0.0</td>\n",
       "      <td>0.0</td>\n",
       "      <td>2.0</td>\n",
       "      <td>13.0</td>\n",
       "      <td>49.0</td>\n",
       "      <td>1</td>\n",
       "    </tr>\n",
       "    <tr>\n",
       "      <th>7680</th>\n",
       "      <td>99948515.0</td>\n",
       "      <td>7.0</td>\n",
       "      <td>2.0</td>\n",
       "      <td>0.0</td>\n",
       "      <td>0.0</td>\n",
       "      <td>11.0</td>\n",
       "      <td>49.0</td>\n",
       "      <td>1</td>\n",
       "    </tr>\n",
       "    <tr>\n",
       "      <th>7681</th>\n",
       "      <td>99948591.0</td>\n",
       "      <td>9.0</td>\n",
       "      <td>2.0</td>\n",
       "      <td>0.0</td>\n",
       "      <td>0.0</td>\n",
       "      <td>12.0</td>\n",
       "      <td>47.0</td>\n",
       "      <td>1</td>\n",
       "    </tr>\n",
       "  </tbody>\n",
       "</table>\n",
       "<p>1513 rows × 8 columns</p>\n",
       "</div>"
      ],
      "text/plain": [
       "             ehr  pregnancy  birth  caesarean  abort  menarche_age  \\\n",
       "8     10131227.0        7.0    7.0        NaN    NaN          12.0   \n",
       "13    10165941.0        4.0    4.0        0.0    7.0          13.0   \n",
       "16    10172680.0        3.0    0.0        7.0    0.0          15.0   \n",
       "23    10227387.0        2.0    1.0        3.0    1.0          13.0   \n",
       "26    10255411.0        4.0    4.0        6.0    0.0          10.0   \n",
       "...          ...        ...    ...        ...    ...           ...   \n",
       "7669  99791778.0        1.0    0.0        0.0    7.0          15.0   \n",
       "7672  99812629.0        1.0    NaN        NaN    0.0          13.0   \n",
       "7673  99815491.0        3.0    0.0        0.0    2.0          13.0   \n",
       "7680  99948515.0        7.0    2.0        0.0    0.0          11.0   \n",
       "7681  99948591.0        9.0    2.0        0.0    0.0          12.0   \n",
       "\n",
       "      menopause_age  inconsistency  \n",
       "8              49.0              1  \n",
       "13             49.0              1  \n",
       "16             52.0              1  \n",
       "23             49.0              1  \n",
       "26             47.0              1  \n",
       "...             ...            ...  \n",
       "7669           53.0              1  \n",
       "7672           49.0              1  \n",
       "7673           49.0              1  \n",
       "7680           49.0              1  \n",
       "7681           47.0              1  \n",
       "\n",
       "[1513 rows x 8 columns]"
      ]
     },
     "execution_count": 327,
     "metadata": {},
     "output_type": "execute_result"
    }
   ],
   "source": [
    "df[df['inconsistency']==1]"
   ]
  },
  {
   "cell_type": "code",
   "execution_count": 328,
   "metadata": {},
   "outputs": [
    {
     "data": {
      "text/html": [
       "<div>\n",
       "<style scoped>\n",
       "    .dataframe tbody tr th:only-of-type {\n",
       "        vertical-align: middle;\n",
       "    }\n",
       "\n",
       "    .dataframe tbody tr th {\n",
       "        vertical-align: top;\n",
       "    }\n",
       "\n",
       "    .dataframe thead th {\n",
       "        text-align: right;\n",
       "    }\n",
       "</style>\n",
       "<table border=\"1\" class=\"dataframe\">\n",
       "  <thead>\n",
       "    <tr style=\"text-align: right;\">\n",
       "      <th></th>\n",
       "      <th>ehr</th>\n",
       "      <th>pregnancy</th>\n",
       "      <th>birth</th>\n",
       "      <th>caesarean</th>\n",
       "      <th>abort</th>\n",
       "      <th>menarche_age</th>\n",
       "      <th>menopause_age</th>\n",
       "      <th>inconsistency</th>\n",
       "    </tr>\n",
       "  </thead>\n",
       "  <tbody>\n",
       "    <tr>\n",
       "      <th>0</th>\n",
       "      <td>10011773.0</td>\n",
       "      <td>0.0</td>\n",
       "      <td>0.0</td>\n",
       "      <td>0.0</td>\n",
       "      <td>0.0</td>\n",
       "      <td>13.0</td>\n",
       "      <td>49.0</td>\n",
       "      <td>0</td>\n",
       "    </tr>\n",
       "    <tr>\n",
       "      <th>1</th>\n",
       "      <td>10030299.0</td>\n",
       "      <td>3.0</td>\n",
       "      <td>3.0</td>\n",
       "      <td>0.0</td>\n",
       "      <td>0.0</td>\n",
       "      <td>13.0</td>\n",
       "      <td>49.0</td>\n",
       "      <td>0</td>\n",
       "    </tr>\n",
       "    <tr>\n",
       "      <th>2</th>\n",
       "      <td>10030824.0</td>\n",
       "      <td>0.0</td>\n",
       "      <td>0.0</td>\n",
       "      <td>0.0</td>\n",
       "      <td>0.0</td>\n",
       "      <td>13.0</td>\n",
       "      <td>44.0</td>\n",
       "      <td>0</td>\n",
       "    </tr>\n",
       "    <tr>\n",
       "      <th>3</th>\n",
       "      <td>10053435.0</td>\n",
       "      <td>2.0</td>\n",
       "      <td>1.0</td>\n",
       "      <td>0.0</td>\n",
       "      <td>1.0</td>\n",
       "      <td>13.0</td>\n",
       "      <td>49.0</td>\n",
       "      <td>0</td>\n",
       "    </tr>\n",
       "    <tr>\n",
       "      <th>4</th>\n",
       "      <td>10111454.0</td>\n",
       "      <td>0.0</td>\n",
       "      <td>0.0</td>\n",
       "      <td>0.0</td>\n",
       "      <td>0.0</td>\n",
       "      <td>16.0</td>\n",
       "      <td>55.0</td>\n",
       "      <td>0</td>\n",
       "    </tr>\n",
       "    <tr>\n",
       "      <th>...</th>\n",
       "      <td>...</td>\n",
       "      <td>...</td>\n",
       "      <td>...</td>\n",
       "      <td>...</td>\n",
       "      <td>...</td>\n",
       "      <td>...</td>\n",
       "      <td>...</td>\n",
       "      <td>...</td>\n",
       "    </tr>\n",
       "    <tr>\n",
       "      <th>7679</th>\n",
       "      <td>99915606.0</td>\n",
       "      <td>0.0</td>\n",
       "      <td>0.0</td>\n",
       "      <td>0.0</td>\n",
       "      <td>0.0</td>\n",
       "      <td>12.0</td>\n",
       "      <td>56.0</td>\n",
       "      <td>0</td>\n",
       "    </tr>\n",
       "    <tr>\n",
       "      <th>7682</th>\n",
       "      <td>99961100.0</td>\n",
       "      <td>2.0</td>\n",
       "      <td>2.0</td>\n",
       "      <td>0.0</td>\n",
       "      <td>0.0</td>\n",
       "      <td>19.0</td>\n",
       "      <td>52.0</td>\n",
       "      <td>0</td>\n",
       "    </tr>\n",
       "    <tr>\n",
       "      <th>7683</th>\n",
       "      <td>99981192.0</td>\n",
       "      <td>3.0</td>\n",
       "      <td>3.0</td>\n",
       "      <td>0.0</td>\n",
       "      <td>0.0</td>\n",
       "      <td>11.0</td>\n",
       "      <td>49.0</td>\n",
       "      <td>0</td>\n",
       "    </tr>\n",
       "    <tr>\n",
       "      <th>7684</th>\n",
       "      <td>99992350.0</td>\n",
       "      <td>4.0</td>\n",
       "      <td>3.0</td>\n",
       "      <td>1.0</td>\n",
       "      <td>0.0</td>\n",
       "      <td>11.0</td>\n",
       "      <td>55.0</td>\n",
       "      <td>0</td>\n",
       "    </tr>\n",
       "    <tr>\n",
       "      <th>7685</th>\n",
       "      <td>99994417.0</td>\n",
       "      <td>2.0</td>\n",
       "      <td>0.0</td>\n",
       "      <td>1.0</td>\n",
       "      <td>1.0</td>\n",
       "      <td>13.0</td>\n",
       "      <td>49.0</td>\n",
       "      <td>0</td>\n",
       "    </tr>\n",
       "  </tbody>\n",
       "</table>\n",
       "<p>6173 rows × 8 columns</p>\n",
       "</div>"
      ],
      "text/plain": [
       "             ehr  pregnancy  birth  caesarean  abort  menarche_age  \\\n",
       "0     10011773.0        0.0    0.0        0.0    0.0          13.0   \n",
       "1     10030299.0        3.0    3.0        0.0    0.0          13.0   \n",
       "2     10030824.0        0.0    0.0        0.0    0.0          13.0   \n",
       "3     10053435.0        2.0    1.0        0.0    1.0          13.0   \n",
       "4     10111454.0        0.0    0.0        0.0    0.0          16.0   \n",
       "...          ...        ...    ...        ...    ...           ...   \n",
       "7679  99915606.0        0.0    0.0        0.0    0.0          12.0   \n",
       "7682  99961100.0        2.0    2.0        0.0    0.0          19.0   \n",
       "7683  99981192.0        3.0    3.0        0.0    0.0          11.0   \n",
       "7684  99992350.0        4.0    3.0        1.0    0.0          11.0   \n",
       "7685  99994417.0        2.0    0.0        1.0    1.0          13.0   \n",
       "\n",
       "      menopause_age  inconsistency  \n",
       "0              49.0              0  \n",
       "1              49.0              0  \n",
       "2              44.0              0  \n",
       "3              49.0              0  \n",
       "4              55.0              0  \n",
       "...             ...            ...  \n",
       "7679           56.0              0  \n",
       "7682           52.0              0  \n",
       "7683           49.0              0  \n",
       "7684           55.0              0  \n",
       "7685           49.0              0  \n",
       "\n",
       "[6173 rows x 8 columns]"
      ]
     },
     "execution_count": 328,
     "metadata": {},
     "output_type": "execute_result"
    }
   ],
   "source": [
    "# Eliminar filas donde inconsistency es igual a 1\n",
    "df = df[df['inconsistency'] == 0]\n",
    "df"
   ]
  },
  {
   "cell_type": "markdown",
   "metadata": {},
   "source": [
    "### Preprocesado patients_batch1/patients_batch2"
   ]
  },
  {
   "cell_type": "markdown",
   "metadata": {},
   "source": [
    "Los datos de los pacientes vienen dados en batch distintos recopilados en momentos diferentes. Entonces, primero ponemos en el mismo formato de manera individual los dos csv y después haremos un merge para unirlos en uno solo"
   ]
  },
  {
   "cell_type": "code",
   "execution_count": 329,
   "metadata": {},
   "outputs": [
    {
     "data": {
      "text/html": [
       "<div>\n",
       "<style scoped>\n",
       "    .dataframe tbody tr th:only-of-type {\n",
       "        vertical-align: middle;\n",
       "    }\n",
       "\n",
       "    .dataframe tbody tr th {\n",
       "        vertical-align: top;\n",
       "    }\n",
       "\n",
       "    .dataframe thead th {\n",
       "        text-align: right;\n",
       "    }\n",
       "</style>\n",
       "<table border=\"1\" class=\"dataframe\">\n",
       "  <thead>\n",
       "    <tr style=\"text-align: right;\">\n",
       "      <th></th>\n",
       "      <th>ehr</th>\n",
       "      <th>birth_date</th>\n",
       "      <th>diagnosis_date</th>\n",
       "      <th>death_date</th>\n",
       "    </tr>\n",
       "  </thead>\n",
       "  <tbody>\n",
       "    <tr>\n",
       "      <th>0</th>\n",
       "      <td>10011773</td>\n",
       "      <td>05-07-1959</td>\n",
       "      <td>02-04-2015</td>\n",
       "      <td>NaN</td>\n",
       "    </tr>\n",
       "    <tr>\n",
       "      <th>1</th>\n",
       "      <td>10020495</td>\n",
       "      <td>02-10-1953</td>\n",
       "      <td>04-12-2017</td>\n",
       "      <td>NaN</td>\n",
       "    </tr>\n",
       "    <tr>\n",
       "      <th>2</th>\n",
       "      <td>10030299</td>\n",
       "      <td>16-08-1966</td>\n",
       "      <td>27-06-2019</td>\n",
       "      <td>NaN</td>\n",
       "    </tr>\n",
       "    <tr>\n",
       "      <th>3</th>\n",
       "      <td>10030824</td>\n",
       "      <td>03-03-1953</td>\n",
       "      <td>07-09-2018</td>\n",
       "      <td>NaN</td>\n",
       "    </tr>\n",
       "    <tr>\n",
       "      <th>4</th>\n",
       "      <td>10041592</td>\n",
       "      <td>06-07-1959</td>\n",
       "      <td>19-11-2018</td>\n",
       "      <td>NaN</td>\n",
       "    </tr>\n",
       "    <tr>\n",
       "      <th>...</th>\n",
       "      <td>...</td>\n",
       "      <td>...</td>\n",
       "      <td>...</td>\n",
       "      <td>...</td>\n",
       "    </tr>\n",
       "    <tr>\n",
       "      <th>7495</th>\n",
       "      <td>77575810</td>\n",
       "      <td>21-03-1958</td>\n",
       "      <td>22-02-2014</td>\n",
       "      <td>NaN</td>\n",
       "    </tr>\n",
       "    <tr>\n",
       "      <th>7496</th>\n",
       "      <td>77578551</td>\n",
       "      <td>18-05-1948</td>\n",
       "      <td>11-07-2018</td>\n",
       "      <td>NaN</td>\n",
       "    </tr>\n",
       "    <tr>\n",
       "      <th>7497</th>\n",
       "      <td>77579212</td>\n",
       "      <td>13-02-1976</td>\n",
       "      <td>22-03-2022</td>\n",
       "      <td>NaN</td>\n",
       "    </tr>\n",
       "    <tr>\n",
       "      <th>7498</th>\n",
       "      <td>77605742</td>\n",
       "      <td>16-03-1950</td>\n",
       "      <td>29-06-2015</td>\n",
       "      <td>NaN</td>\n",
       "    </tr>\n",
       "    <tr>\n",
       "      <th>7499</th>\n",
       "      <td>77606485</td>\n",
       "      <td>13-05-1962</td>\n",
       "      <td>26-11-2013</td>\n",
       "      <td>NaN</td>\n",
       "    </tr>\n",
       "  </tbody>\n",
       "</table>\n",
       "<p>7500 rows × 4 columns</p>\n",
       "</div>"
      ],
      "text/plain": [
       "           ehr  birth_date diagnosis_date death_date\n",
       "0     10011773  05-07-1959     02-04-2015        NaN\n",
       "1     10020495  02-10-1953     04-12-2017        NaN\n",
       "2     10030299  16-08-1966     27-06-2019        NaN\n",
       "3     10030824  03-03-1953     07-09-2018        NaN\n",
       "4     10041592  06-07-1959     19-11-2018        NaN\n",
       "...        ...         ...            ...        ...\n",
       "7495  77575810  21-03-1958     22-02-2014        NaN\n",
       "7496  77578551  18-05-1948     11-07-2018        NaN\n",
       "7497  77579212  13-02-1976     22-03-2022        NaN\n",
       "7498  77605742  16-03-1950     29-06-2015        NaN\n",
       "7499  77606485  13-05-1962     26-11-2013        NaN\n",
       "\n",
       "[7500 rows x 4 columns]"
      ]
     },
     "execution_count": 329,
     "metadata": {},
     "output_type": "execute_result"
    }
   ],
   "source": [
    "# Convertir las columnas objeto al formato datetime\n",
    "df_csv1['birth_date'] = pd.to_datetime(df_csv1['birth_date'], format='%Y-%m-%d', errors='coerce')\n",
    "df_csv1['diagnosis_date'] = pd.to_datetime(df_csv1['diagnosis_date'], format='%Y-%m-%d', errors='coerce')\n",
    "df_csv1['death_date'] = pd.to_datetime(df_csv1['death_date'],format='%Y-%m-%d', errors='coerce')\n",
    "\n",
    "# Cambiamos los formatos a '%d/%m/%Y'\n",
    "df_csv1['birth_date'] = df_csv1['birth_date'].dt.strftime('%d-%m-%Y')\n",
    "df_csv1['diagnosis_date'] = df_csv1['diagnosis_date'].dt.strftime('%d-%m-%Y')\n",
    "df_csv1['death_date'] = df_csv1['death_date'].dt.strftime('%d-%m-%Y')\n",
    "\n",
    "df_csv1"
   ]
  },
  {
   "cell_type": "code",
   "execution_count": 330,
   "metadata": {},
   "outputs": [
    {
     "data": {
      "text/html": [
       "<div>\n",
       "<style scoped>\n",
       "    .dataframe tbody tr th:only-of-type {\n",
       "        vertical-align: middle;\n",
       "    }\n",
       "\n",
       "    .dataframe tbody tr th {\n",
       "        vertical-align: top;\n",
       "    }\n",
       "\n",
       "    .dataframe thead th {\n",
       "        text-align: right;\n",
       "    }\n",
       "</style>\n",
       "<table border=\"1\" class=\"dataframe\">\n",
       "  <thead>\n",
       "    <tr style=\"text-align: right;\">\n",
       "      <th></th>\n",
       "      <th>ehr</th>\n",
       "      <th>birth_date</th>\n",
       "      <th>diagnosis_date</th>\n",
       "      <th>death_date</th>\n",
       "    </tr>\n",
       "  </thead>\n",
       "  <tbody>\n",
       "    <tr>\n",
       "      <th>0</th>\n",
       "      <td>72992494</td>\n",
       "      <td>13-02-1942</td>\n",
       "      <td>08-05-2018</td>\n",
       "      <td>NaN</td>\n",
       "    </tr>\n",
       "    <tr>\n",
       "      <th>1</th>\n",
       "      <td>73002338</td>\n",
       "      <td>22-10-1949</td>\n",
       "      <td>08-09-2018</td>\n",
       "      <td>NaN</td>\n",
       "    </tr>\n",
       "    <tr>\n",
       "      <th>2</th>\n",
       "      <td>73008149</td>\n",
       "      <td>04-12-1969</td>\n",
       "      <td>12-04-2018</td>\n",
       "      <td>NaN</td>\n",
       "    </tr>\n",
       "    <tr>\n",
       "      <th>3</th>\n",
       "      <td>73012939</td>\n",
       "      <td>18-09-1973</td>\n",
       "      <td>17-04-2014</td>\n",
       "      <td>01-01-2018</td>\n",
       "    </tr>\n",
       "    <tr>\n",
       "      <th>4</th>\n",
       "      <td>73019870</td>\n",
       "      <td>07-12-1955</td>\n",
       "      <td>24-05-2018</td>\n",
       "      <td>NaN</td>\n",
       "    </tr>\n",
       "    <tr>\n",
       "      <th>...</th>\n",
       "      <td>...</td>\n",
       "      <td>...</td>\n",
       "      <td>...</td>\n",
       "      <td>...</td>\n",
       "    </tr>\n",
       "    <tr>\n",
       "      <th>2995</th>\n",
       "      <td>99966287</td>\n",
       "      <td>16-12-1978</td>\n",
       "      <td>02-08-2018</td>\n",
       "      <td>NaN</td>\n",
       "    </tr>\n",
       "    <tr>\n",
       "      <th>2996</th>\n",
       "      <td>99981192</td>\n",
       "      <td>10-04-1949</td>\n",
       "      <td>28-10-2017</td>\n",
       "      <td>NaN</td>\n",
       "    </tr>\n",
       "    <tr>\n",
       "      <th>2997</th>\n",
       "      <td>99988958</td>\n",
       "      <td>21-01-1966</td>\n",
       "      <td>27-05-2013</td>\n",
       "      <td>NaN</td>\n",
       "    </tr>\n",
       "    <tr>\n",
       "      <th>2998</th>\n",
       "      <td>99992350</td>\n",
       "      <td>04-09-1939</td>\n",
       "      <td>17-12-2018</td>\n",
       "      <td>NaN</td>\n",
       "    </tr>\n",
       "    <tr>\n",
       "      <th>2999</th>\n",
       "      <td>99994417</td>\n",
       "      <td>10-02-1962</td>\n",
       "      <td>01-04-2017</td>\n",
       "      <td>NaN</td>\n",
       "    </tr>\n",
       "  </tbody>\n",
       "</table>\n",
       "<p>3000 rows × 4 columns</p>\n",
       "</div>"
      ],
      "text/plain": [
       "           ehr  birth_date diagnosis_date  death_date\n",
       "0     72992494  13-02-1942     08-05-2018         NaN\n",
       "1     73002338  22-10-1949     08-09-2018         NaN\n",
       "2     73008149  04-12-1969     12-04-2018         NaN\n",
       "3     73012939  18-09-1973     17-04-2014  01-01-2018\n",
       "4     73019870  07-12-1955     24-05-2018         NaN\n",
       "...        ...         ...            ...         ...\n",
       "2995  99966287  16-12-1978     02-08-2018         NaN\n",
       "2996  99981192  10-04-1949     28-10-2017         NaN\n",
       "2997  99988958  21-01-1966     27-05-2013         NaN\n",
       "2998  99992350  04-09-1939     17-12-2018         NaN\n",
       "2999  99994417  10-02-1962     01-04-2017         NaN\n",
       "\n",
       "[3000 rows x 4 columns]"
      ]
     },
     "execution_count": 330,
     "metadata": {},
     "output_type": "execute_result"
    }
   ],
   "source": [
    "# Convertir las columnas objeto al formato datetime\n",
    "df_csv2['birth_date'] = pd.to_datetime(df_csv2['birth_date'], format='%d/%m/%Y', errors='coerce')\n",
    "df_csv2['diagnosis_date'] = pd.to_datetime(df_csv2['diagnosis_date'], format='%d/%m/%Y', errors='coerce')\n",
    "df_csv2['death_date'] = pd.to_datetime(df_csv2['death_date'], format='%d/%m/%Y', errors='coerce')\n",
    "\n",
    "# Cambiamos los formatos a '%d/%m/%Y'\n",
    "df_csv2['birth_date'] = df_csv2['birth_date'].dt.strftime('%d-%m-%Y')\n",
    "df_csv2['diagnosis_date'] = df_csv2['diagnosis_date'].dt.strftime('%d-%m-%Y')\n",
    "df_csv2['death_date'] = df_csv2['death_date'].dt.strftime('%d-%m-%Y')\n",
    "\n",
    "df_csv2"
   ]
  },
  {
   "cell_type": "markdown",
   "metadata": {},
   "source": [
    "Ya tenemos los dos df con el mismo formato individualmente, ahora realizamos un merge para juntar los dos"
   ]
  },
  {
   "cell_type": "code",
   "execution_count": 331,
   "metadata": {},
   "outputs": [
    {
     "data": {
      "text/html": [
       "<div>\n",
       "<style scoped>\n",
       "    .dataframe tbody tr th:only-of-type {\n",
       "        vertical-align: middle;\n",
       "    }\n",
       "\n",
       "    .dataframe tbody tr th {\n",
       "        vertical-align: top;\n",
       "    }\n",
       "\n",
       "    .dataframe thead th {\n",
       "        text-align: right;\n",
       "    }\n",
       "</style>\n",
       "<table border=\"1\" class=\"dataframe\">\n",
       "  <thead>\n",
       "    <tr style=\"text-align: right;\">\n",
       "      <th></th>\n",
       "      <th>ehr</th>\n",
       "      <th>birth_date</th>\n",
       "      <th>diagnosis_date</th>\n",
       "      <th>death_date</th>\n",
       "    </tr>\n",
       "  </thead>\n",
       "  <tbody>\n",
       "    <tr>\n",
       "      <th>0</th>\n",
       "      <td>10011773</td>\n",
       "      <td>05-07-1959</td>\n",
       "      <td>02-04-2015</td>\n",
       "      <td>NaN</td>\n",
       "    </tr>\n",
       "    <tr>\n",
       "      <th>1</th>\n",
       "      <td>10020495</td>\n",
       "      <td>02-10-1953</td>\n",
       "      <td>04-12-2017</td>\n",
       "      <td>NaN</td>\n",
       "    </tr>\n",
       "    <tr>\n",
       "      <th>2</th>\n",
       "      <td>10030299</td>\n",
       "      <td>16-08-1966</td>\n",
       "      <td>27-06-2019</td>\n",
       "      <td>NaN</td>\n",
       "    </tr>\n",
       "    <tr>\n",
       "      <th>3</th>\n",
       "      <td>10030824</td>\n",
       "      <td>03-03-1953</td>\n",
       "      <td>07-09-2018</td>\n",
       "      <td>NaN</td>\n",
       "    </tr>\n",
       "    <tr>\n",
       "      <th>4</th>\n",
       "      <td>10041592</td>\n",
       "      <td>06-07-1959</td>\n",
       "      <td>19-11-2018</td>\n",
       "      <td>NaN</td>\n",
       "    </tr>\n",
       "    <tr>\n",
       "      <th>...</th>\n",
       "      <td>...</td>\n",
       "      <td>...</td>\n",
       "      <td>...</td>\n",
       "      <td>...</td>\n",
       "    </tr>\n",
       "    <tr>\n",
       "      <th>9995</th>\n",
       "      <td>99966287</td>\n",
       "      <td>16-12-1978</td>\n",
       "      <td>02-08-2018</td>\n",
       "      <td>NaN</td>\n",
       "    </tr>\n",
       "    <tr>\n",
       "      <th>9996</th>\n",
       "      <td>99981192</td>\n",
       "      <td>10-04-1949</td>\n",
       "      <td>28-10-2017</td>\n",
       "      <td>NaN</td>\n",
       "    </tr>\n",
       "    <tr>\n",
       "      <th>9997</th>\n",
       "      <td>99988958</td>\n",
       "      <td>21-01-1966</td>\n",
       "      <td>27-05-2013</td>\n",
       "      <td>NaN</td>\n",
       "    </tr>\n",
       "    <tr>\n",
       "      <th>9998</th>\n",
       "      <td>99992350</td>\n",
       "      <td>04-09-1939</td>\n",
       "      <td>17-12-2018</td>\n",
       "      <td>NaN</td>\n",
       "    </tr>\n",
       "    <tr>\n",
       "      <th>9999</th>\n",
       "      <td>99994417</td>\n",
       "      <td>10-02-1962</td>\n",
       "      <td>01-04-2017</td>\n",
       "      <td>NaN</td>\n",
       "    </tr>\n",
       "  </tbody>\n",
       "</table>\n",
       "<p>10000 rows × 4 columns</p>\n",
       "</div>"
      ],
      "text/plain": [
       "           ehr  birth_date diagnosis_date death_date\n",
       "0     10011773  05-07-1959     02-04-2015        NaN\n",
       "1     10020495  02-10-1953     04-12-2017        NaN\n",
       "2     10030299  16-08-1966     27-06-2019        NaN\n",
       "3     10030824  03-03-1953     07-09-2018        NaN\n",
       "4     10041592  06-07-1959     19-11-2018        NaN\n",
       "...        ...         ...            ...        ...\n",
       "9995  99966287  16-12-1978     02-08-2018        NaN\n",
       "9996  99981192  10-04-1949     28-10-2017        NaN\n",
       "9997  99988958  21-01-1966     27-05-2013        NaN\n",
       "9998  99992350  04-09-1939     17-12-2018        NaN\n",
       "9999  99994417  10-02-1962     01-04-2017        NaN\n",
       "\n",
       "[10000 rows x 4 columns]"
      ]
     },
     "execution_count": 331,
     "metadata": {},
     "output_type": "execute_result"
    }
   ],
   "source": [
    "df_csv = pd.merge(df_csv1, df_csv2, on=['ehr','birth_date','diagnosis_date','death_date'], how='outer')\n",
    "df_csv"
   ]
  },
  {
   "cell_type": "markdown",
   "metadata": {},
   "source": [
    "Podemos observar que nuestro nuevo dataframe tiene solo 10000, cuando nuestros dos batch suman 10500 (7500 y 3000 respectivamente). Podemos deducir que había filas con pacientes duplicados, y como hemos realizado el merge con 'outer' estos valores no han sido duplicados, ya que poseían los mismos datos, sino que solo se ha añadido uno.\n",
    "\n",
    "Para probar que nuestra teoría es cierta, verificamos que no hay nulos en nuestro nuevo dataframe."
   ]
  },
  {
   "cell_type": "code",
   "execution_count": 332,
   "metadata": {},
   "outputs": [
    {
     "data": {
      "text/plain": [
       "False"
      ]
     },
     "execution_count": 332,
     "metadata": {},
     "output_type": "execute_result"
    }
   ],
   "source": [
    "df_csv['ehr'].duplicated().any()"
   ]
  },
  {
   "cell_type": "markdown",
   "metadata": {},
   "source": [
    "Nos devuelve 'False', por lo tanto, verificamos nuestra teoría."
   ]
  },
  {
   "cell_type": "markdown",
   "metadata": {},
   "source": [
    "Ahora vamos a realizar un pequeño análisis de cada una de las variables."
   ]
  },
  {
   "cell_type": "code",
   "execution_count": 333,
   "metadata": {},
   "outputs": [
    {
     "name": "stdout",
     "output_type": "stream",
     "text": [
      "<class 'pandas.core.frame.DataFrame'>\n",
      "Int64Index: 10000 entries, 0 to 9999\n",
      "Data columns (total 4 columns):\n",
      " #   Column          Non-Null Count  Dtype \n",
      "---  ------          --------------  ----- \n",
      " 0   ehr             10000 non-null  int64 \n",
      " 1   birth_date      10000 non-null  object\n",
      " 2   diagnosis_date  10000 non-null  object\n",
      " 3   death_date      1135 non-null   object\n",
      "dtypes: int64(1), object(3)\n",
      "memory usage: 390.6+ KB\n"
     ]
    }
   ],
   "source": [
    "df_csv.info()"
   ]
  },
  {
   "cell_type": "markdown",
   "metadata": {},
   "source": [
    "Observamos que en nuestro dataset de csv tenemos variables de tipo int64 y object; El identificador del paciente tendrá valor numérico, y luego el resto de variables (birth_date, diagnosis_date, death_date) con formato de objeto.\n",
    "\n",
    "Tambien podemos observar gracias a la columna Non-Null Count, que de las variables birth_date y diagnosis_date no tenemos ningun valor nulo (ya que tenemos 10000 valores no nulos). "
   ]
  },
  {
   "cell_type": "markdown",
   "metadata": {},
   "source": [
    "Sin embargo, en la columna death_date si que tenemos nulos. Vamos a realizar un recuento de valores para esa columna para ver cuantos pacientes han fallecido de nuestro conjunto de datos"
   ]
  },
  {
   "cell_type": "code",
   "execution_count": 334,
   "metadata": {},
   "outputs": [
    {
     "data": {
      "text/plain": [
       "1135"
      ]
     },
     "execution_count": 334,
     "metadata": {},
     "output_type": "execute_result"
    }
   ],
   "source": [
    "valores = df_csv['death_date'].count()\n",
    "valores"
   ]
  },
  {
   "cell_type": "code",
   "execution_count": 335,
   "metadata": {},
   "outputs": [
    {
     "data": {
      "text/plain": [
       "8865"
      ]
     },
     "execution_count": 335,
     "metadata": {},
     "output_type": "execute_result"
    }
   ],
   "source": [
    "valores = df_csv['death_date'].isnull().sum()\n",
    "valores"
   ]
  },
  {
   "cell_type": "markdown",
   "metadata": {},
   "source": [
    "Vemos que  hay 1135 pacientes que han fallecido, y 8865 pacientes se encuentran estables."
   ]
  },
  {
   "cell_type": "markdown",
   "metadata": {},
   "source": [
    "Una vez que tenemos todos los pacientes correctamente, vamos a comprobar que las fechas de los pacientes entran en los rangos correctos:\n",
    "- Dia: [1:31]\n",
    "- Mes: [1:12]"
   ]
  },
  {
   "cell_type": "markdown",
   "metadata": {},
   "source": [
    "Empezamos comprobando que el rango de los días es el correcto:"
   ]
  },
  {
   "cell_type": "code",
   "execution_count": 336,
   "metadata": {},
   "outputs": [
    {
     "name": "stdout",
     "output_type": "stream",
     "text": [
      "Todos los días en birth_date están dentro del rango.\n",
      "Todos los días en diagnosis_date están dentro del rango.\n",
      "Todos los días en death_date están dentro del rango.\n"
     ]
    }
   ],
   "source": [
    "columnas = ['birth_date', 'diagnosis_date', 'death_date']\n",
    "\n",
    "for i in columnas:\n",
    "    # Especifico el rango\n",
    "    rango_días = (\n",
    "        pd.to_datetime(df_csv[i], format='%d-%m-%Y', errors='coerce').dt.day < 1\n",
    "        | (pd.to_datetime(df_csv[i], format='%d-%m-%Y', errors='coerce').dt.day > 31)\n",
    "    )\n",
    "\n",
    "    filas_fuera_de_rango = df_csv[rango_días]\n",
    "\n",
    "    if not filas_fuera_de_rango.empty:\n",
    "        print(f\"Filas con días fuera del rango en {i}:\")\n",
    "        print(filas_fuera_de_rango)\n",
    "    else:\n",
    "        print(f\"Todos los días en {i} están dentro del rango.\")"
   ]
  },
  {
   "cell_type": "markdown",
   "metadata": {},
   "source": [
    "Comprobamos ahora el rango de los meses:"
   ]
  },
  {
   "cell_type": "code",
   "execution_count": 337,
   "metadata": {},
   "outputs": [
    {
     "name": "stdout",
     "output_type": "stream",
     "text": [
      "Todos los días en birth_date están dentro del rango.\n",
      "Todos los días en diagnosis_date están dentro del rango.\n",
      "Todos los días en death_date están dentro del rango.\n"
     ]
    }
   ],
   "source": [
    "columnas = ['birth_date', 'diagnosis_date', 'death_date']\n",
    "\n",
    "for i in columnas:\n",
    "    # Especifico el rango\n",
    "    rango_mes = (\n",
    "        pd.to_datetime(df_csv[i], format='%d-%m-%Y', errors='coerce').dt.month < 1\n",
    "        | (pd.to_datetime(df_csv[i], format='%d-%m-%Y', errors='coerce').dt.month > 12)\n",
    "    )\n",
    "\n",
    "    filas_fuera_de_rango = df_csv[rango_mes]\n",
    "\n",
    "    if not filas_fuera_de_rango.empty:\n",
    "        print(f\"Filas con días fuera del rango en {i}:\")\n",
    "        print(filas_fuera_de_rango)\n",
    "    else:\n",
    "        print(f\"Todos los días en {i} están dentro del rango.\")"
   ]
  },
  {
   "cell_type": "markdown",
   "metadata": {},
   "source": [
    "Por lo tanto, podemos concluir que tenemos todos los datos en el mismo formato, y con los valores correctos. Es decir, no tenemos ninguna fecha mal puesta"
   ]
  },
  {
   "cell_type": "markdown",
   "metadata": {},
   "source": [
    "### Preprocesado histochemistry"
   ]
  },
  {
   "cell_type": "markdown",
   "metadata": {},
   "source": [
    "Lo pasamos a formato csv para poder estudiar los datos más fácilmente, y lo guardamos como 'datos_json.csv'"
   ]
  },
  {
   "cell_type": "code",
   "execution_count": 338,
   "metadata": {},
   "outputs": [
    {
     "data": {
      "text/html": [
       "<div>\n",
       "<style scoped>\n",
       "    .dataframe tbody tr th:only-of-type {\n",
       "        vertical-align: middle;\n",
       "    }\n",
       "\n",
       "    .dataframe tbody tr th {\n",
       "        vertical-align: top;\n",
       "    }\n",
       "\n",
       "    .dataframe thead th {\n",
       "        text-align: right;\n",
       "    }\n",
       "</style>\n",
       "<table border=\"1\" class=\"dataframe\">\n",
       "  <thead>\n",
       "    <tr style=\"text-align: right;\">\n",
       "      <th></th>\n",
       "      <th>ehr</th>\n",
       "      <th>er</th>\n",
       "      <th>her2</th>\n",
       "      <th>ki67</th>\n",
       "      <th>pr</th>\n",
       "    </tr>\n",
       "  </thead>\n",
       "  <tbody>\n",
       "    <tr>\n",
       "      <th>0</th>\n",
       "      <td>10011773</td>\n",
       "      <td>0.0</td>\n",
       "      <td>0.0</td>\n",
       "      <td>19.0</td>\n",
       "      <td>NaN</td>\n",
       "    </tr>\n",
       "    <tr>\n",
       "      <th>1</th>\n",
       "      <td>10020495</td>\n",
       "      <td>1.0</td>\n",
       "      <td>0.0</td>\n",
       "      <td>9.0</td>\n",
       "      <td>0.0</td>\n",
       "    </tr>\n",
       "    <tr>\n",
       "      <th>2</th>\n",
       "      <td>10030299</td>\n",
       "      <td>1.0</td>\n",
       "      <td>NaN</td>\n",
       "      <td>18.0</td>\n",
       "      <td>1.0</td>\n",
       "    </tr>\n",
       "    <tr>\n",
       "      <th>3</th>\n",
       "      <td>10030824</td>\n",
       "      <td>1.0</td>\n",
       "      <td>0.0</td>\n",
       "      <td>NaN</td>\n",
       "      <td>1.0</td>\n",
       "    </tr>\n",
       "    <tr>\n",
       "      <th>4</th>\n",
       "      <td>10041592</td>\n",
       "      <td>0.0</td>\n",
       "      <td>0.0</td>\n",
       "      <td>65.0</td>\n",
       "      <td>0.0</td>\n",
       "    </tr>\n",
       "    <tr>\n",
       "      <th>...</th>\n",
       "      <td>...</td>\n",
       "      <td>...</td>\n",
       "      <td>...</td>\n",
       "      <td>...</td>\n",
       "      <td>...</td>\n",
       "    </tr>\n",
       "    <tr>\n",
       "      <th>9995</th>\n",
       "      <td>99966287</td>\n",
       "      <td>1.0</td>\n",
       "      <td>0.0</td>\n",
       "      <td>NaN</td>\n",
       "      <td>0.0</td>\n",
       "    </tr>\n",
       "    <tr>\n",
       "      <th>9996</th>\n",
       "      <td>99981192</td>\n",
       "      <td>1.0</td>\n",
       "      <td>0.0</td>\n",
       "      <td>14.0</td>\n",
       "      <td>0.0</td>\n",
       "    </tr>\n",
       "    <tr>\n",
       "      <th>9997</th>\n",
       "      <td>99988958</td>\n",
       "      <td>NaN</td>\n",
       "      <td>0.0</td>\n",
       "      <td>67.0</td>\n",
       "      <td>NaN</td>\n",
       "    </tr>\n",
       "    <tr>\n",
       "      <th>9998</th>\n",
       "      <td>99992350</td>\n",
       "      <td>0.0</td>\n",
       "      <td>0.0</td>\n",
       "      <td>16.0</td>\n",
       "      <td>0.0</td>\n",
       "    </tr>\n",
       "    <tr>\n",
       "      <th>9999</th>\n",
       "      <td>99994417</td>\n",
       "      <td>1.0</td>\n",
       "      <td>0.0</td>\n",
       "      <td>20.0</td>\n",
       "      <td>1.0</td>\n",
       "    </tr>\n",
       "  </tbody>\n",
       "</table>\n",
       "<p>10000 rows × 5 columns</p>\n",
       "</div>"
      ],
      "text/plain": [
       "           ehr   er  her2  ki67   pr\n",
       "0     10011773  0.0   0.0  19.0  NaN\n",
       "1     10020495  1.0   0.0   9.0  0.0\n",
       "2     10030299  1.0   NaN  18.0  1.0\n",
       "3     10030824  1.0   0.0   NaN  1.0\n",
       "4     10041592  0.0   0.0  65.0  0.0\n",
       "...        ...  ...   ...   ...  ...\n",
       "9995  99966287  1.0   0.0   NaN  0.0\n",
       "9996  99981192  1.0   0.0  14.0  0.0\n",
       "9997  99988958  NaN   0.0  67.0  NaN\n",
       "9998  99992350  0.0   0.0  16.0  0.0\n",
       "9999  99994417  1.0   0.0  20.0  1.0\n",
       "\n",
       "[10000 rows x 5 columns]"
      ]
     },
     "execution_count": 338,
     "metadata": {},
     "output_type": "execute_result"
    }
   ],
   "source": [
    "df_json.to_csv('./Datos/datos_json.csv',)\n",
    "df_json"
   ]
  },
  {
   "cell_type": "markdown",
   "metadata": {},
   "source": [
    "Al igual que hemos realizado con el preprocesado de los datos de los pacientes, comprobamos si tenemos identificadores duplicados"
   ]
  },
  {
   "cell_type": "code",
   "execution_count": 339,
   "metadata": {},
   "outputs": [
    {
     "data": {
      "text/plain": [
       "False"
      ]
     },
     "execution_count": 339,
     "metadata": {},
     "output_type": "execute_result"
    }
   ],
   "source": [
    "df_json['ehr'].duplicated().any()"
   ]
  },
  {
   "cell_type": "code",
   "execution_count": 340,
   "metadata": {},
   "outputs": [
    {
     "name": "stdout",
     "output_type": "stream",
     "text": [
      "<class 'pandas.core.frame.DataFrame'>\n",
      "RangeIndex: 10000 entries, 0 to 9999\n",
      "Data columns (total 5 columns):\n",
      " #   Column  Non-Null Count  Dtype  \n",
      "---  ------  --------------  -----  \n",
      " 0   ehr     10000 non-null  int64  \n",
      " 1   er      9042 non-null   float64\n",
      " 2   her2    9006 non-null   float64\n",
      " 3   ki67    9032 non-null   float64\n",
      " 4   pr      9018 non-null   float64\n",
      "dtypes: float64(4), int64(1)\n",
      "memory usage: 390.8 KB\n"
     ]
    }
   ],
   "source": [
    "df_json.info()"
   ]
  },
  {
   "cell_type": "markdown",
   "metadata": {},
   "source": [
    "Observamos que tenemos todos los datos de tipo numérico. El identificador del paciente (ehr) de tipo int, y el resto de variables como float"
   ]
  },
  {
   "cell_type": "markdown",
   "metadata": {},
   "source": [
    "Mostramos ahora cuantos nulos hay por columna"
   ]
  },
  {
   "cell_type": "code",
   "execution_count": 341,
   "metadata": {},
   "outputs": [
    {
     "name": "stdout",
     "output_type": "stream",
     "text": [
      "Número de valores nulos por columna:\n",
      "ehr       0\n",
      "er      958\n",
      "her2    994\n",
      "ki67    968\n",
      "pr      982\n",
      "dtype: int64\n"
     ]
    }
   ],
   "source": [
    "nulos = df_json.isnull()\n",
    "\n",
    "num_nulos_por_columna = nulos.sum()\n",
    "\n",
    "print(\"Número de valores nulos por columna:\")\n",
    "print(num_nulos_por_columna)"
   ]
  },
  {
   "cell_type": "markdown",
   "metadata": {},
   "source": [
    "Tenemos bastantes valores nulos por columna. Vamos a realizar un pequeño análisis de los nulos que tenemos"
   ]
  },
  {
   "cell_type": "code",
   "execution_count": 342,
   "metadata": {},
   "outputs": [
    {
     "data": {
      "text/plain": [
       "ehr     0.00\n",
       "er      9.58\n",
       "her2    9.94\n",
       "ki67    9.68\n",
       "pr      9.82\n",
       "dtype: float64"
      ]
     },
     "execution_count": 342,
     "metadata": {},
     "output_type": "execute_result"
    }
   ],
   "source": [
    "# Porcentaje de valores nulos por columna\n",
    "porcentaje = (df_json.isnull().mean() * 100).round(2)\n",
    "porcentaje"
   ]
  },
  {
   "cell_type": "markdown",
   "metadata": {},
   "source": [
    "Obtenemos unos porcentajes bastante bajos, ninguno llega al 10% de los datos que tenemos. Por lo tanto podemos decir, que la cantidad de datos nulos que tenemos es bastante pequeña"
   ]
  },
  {
   "cell_type": "markdown",
   "metadata": {},
   "source": [
    "Calculamos la matriz de correlación para ver si existe alguna correlación entre las variables"
   ]
  },
  {
   "cell_type": "code",
   "execution_count": 343,
   "metadata": {},
   "outputs": [
    {
     "data": {
      "image/png": "[encoded data removed]",
      "text/plain": [
       "<Figure size 600x500 with 2 Axes>"
      ]
     },
     "metadata": {},
     "output_type": "display_data"
    }
   ],
   "source": [
    "# Calcular la matriz de correlación\n",
    "matriz_correlacion = df_json.corr()\n",
    "\n",
    "plt.figure(figsize=(6, 5))\n",
    "sns.heatmap(matriz_correlacion, annot=True, cmap='coolwarm', linewidths=.5)\n",
    "plt.title('Matriz de Correlación')\n",
    "plt.show()"
   ]
  },
  {
   "cell_type": "markdown",
   "metadata": {},
   "source": [
    "Observamos que no hay ningún tipo de correlación entre las variables dadas. De hecho, la mayoría tienen una mínima correlación negativa. "
   ]
  },
  {
   "cell_type": "markdown",
   "metadata": {},
   "source": [
    "Como no existe ningún tipo de correlación entre las variables, hemos decidido imputar los nulos por el valor más común de dicha columna.\n",
    "Para ello calculamos por cada columna su moda, y elegimos el primer valor (es decir, el más común) y lo reemplazamos por los nulos de dicha columna"
   ]
  },
  {
   "cell_type": "code",
   "execution_count": 344,
   "metadata": {},
   "outputs": [],
   "source": [
    "# Imputación de er y pr con el valor más común\n",
    "df_json['er'].fillna(df_json['er'].mode()[0], inplace=True)\n",
    "df_json['pr'].fillna(df_json['pr'].mode()[0], inplace=True)\n",
    "\n",
    "# Imputación de her2 y ki67 con el valor más común\n",
    "df_json['her2'].fillna(df_json['her2'].mode()[0], inplace=True)"
   ]
  },
  {
   "cell_type": "markdown",
   "metadata": {},
   "source": [
    "En cuanto a la columna 'ki67' como no es una columna binaria, sino que son porcentajes. Buscaremos una estrategia que cuadre mejor"
   ]
  },
  {
   "cell_type": "markdown",
   "metadata": {},
   "source": [
    "Antes de anda, haremos un histograma para ver que rango de valores toma esta variable"
   ]
  },
  {
   "cell_type": "code",
   "execution_count": 345,
   "metadata": {},
   "outputs": [
    {
     "data": {
      "image/png": "[encoded data removed]",
      "text/plain": [
       "<Figure size 640x480 with 1 Axes>"
      ]
     },
     "metadata": {},
     "output_type": "display_data"
    }
   ],
   "source": [
    "plt.hist(df_json['ki67'], bins=30, edgecolor='black')\n",
    "plt.title('Histograma de la columna ki67')\n",
    "plt.show()"
   ]
  },
  {
   "cell_type": "markdown",
   "metadata": {},
   "source": [
    "Como podemos observar, tenemos varios valores menores que 0, es decir, que tienen porcentaje negativo. Un valor negativo para el índice de proliferación del tumor (ki67) es erróneo y podría ser un error en los datos o en la recopilación de los mismos. \n",
    "Asimismo, también tenemos valores mayores que 100.\n",
    "\n",
    "De tal manera, que imputaremos estos valores negativos como 0 y los valores mayores que 100 como 100. Y volvemos a mostrar el histograma"
   ]
  },
  {
   "cell_type": "code",
   "execution_count": 346,
   "metadata": {},
   "outputs": [],
   "source": [
    "df_json['ki67'] = df_json['ki67'].apply(lambda x: 0 if x < 0 else x)\n",
    "df_json['ki67'] = df_json['ki67'].apply(lambda x: 100 if x > 100 else x)"
   ]
  },
  {
   "cell_type": "code",
   "execution_count": 347,
   "metadata": {},
   "outputs": [
    {
     "data": {
      "image/png": "[encoded data removed]",
      "text/plain": [
       "<Figure size 640x480 with 1 Axes>"
      ]
     },
     "metadata": {},
     "output_type": "display_data"
    }
   ],
   "source": [
    "plt.hist(df_json['ki67'], bins=30, edgecolor='black')\n",
    "plt.title('Histograma de la columna ki67')\n",
    "plt.show()"
   ]
  },
  {
   "cell_type": "markdown",
   "metadata": {},
   "source": [
    "Ahora que tenemos todos los datos del índice de proliferación del tumor en un rango correcto (0,100), damos paso a la decisión de la estrategia de imputación de los nulos. \n",
    "\n",
    "Para ellos realizamos un boxplot para ver si tenemos muchos datos atípicos"
   ]
  },
  {
   "cell_type": "code",
   "execution_count": 348,
   "metadata": {},
   "outputs": [
    {
     "data": {
      "image/png": "[encoded data removed]",
      "text/plain": [
       "<Figure size 640x480 with 1 Axes>"
      ]
     },
     "metadata": {},
     "output_type": "display_data"
    }
   ],
   "source": [
    "plt.boxplot(df_json['ki67'])\n",
    "plt.title('Boxplot de la columna ki67')\n",
    "plt.show()"
   ]
  },
  {
   "cell_type": "markdown",
   "metadata": {},
   "source": [
    "Como podemos observar tanto en el histograma como en el boxplot, tenemos bastantes datos atípicos, por lo tanto, imputar los nulos según la media sería desacertado ya que es bastante sensible a los datos atípicos. \n",
    "\n",
    "Por lo tanto, decidimos imputarlo según la mediana"
   ]
  },
  {
   "cell_type": "code",
   "execution_count": 349,
   "metadata": {},
   "outputs": [
    {
     "data": {
      "text/plain": [
       "18.0"
      ]
     },
     "execution_count": 349,
     "metadata": {},
     "output_type": "execute_result"
    }
   ],
   "source": [
    "mediana = df_json['ki67'].median()\n",
    "mediana"
   ]
  },
  {
   "cell_type": "code",
   "execution_count": 350,
   "metadata": {},
   "outputs": [],
   "source": [
    "df_json['ki67'].fillna(mediana, inplace=True)"
   ]
  },
  {
   "cell_type": "code",
   "execution_count": 351,
   "metadata": {},
   "outputs": [
    {
     "data": {
      "text/html": [
       "<div>\n",
       "<style scoped>\n",
       "    .dataframe tbody tr th:only-of-type {\n",
       "        vertical-align: middle;\n",
       "    }\n",
       "\n",
       "    .dataframe tbody tr th {\n",
       "        vertical-align: top;\n",
       "    }\n",
       "\n",
       "    .dataframe thead th {\n",
       "        text-align: right;\n",
       "    }\n",
       "</style>\n",
       "<table border=\"1\" class=\"dataframe\">\n",
       "  <thead>\n",
       "    <tr style=\"text-align: right;\">\n",
       "      <th></th>\n",
       "      <th>ehr</th>\n",
       "      <th>er</th>\n",
       "      <th>her2</th>\n",
       "      <th>ki67</th>\n",
       "      <th>pr</th>\n",
       "    </tr>\n",
       "  </thead>\n",
       "  <tbody>\n",
       "    <tr>\n",
       "      <th>0</th>\n",
       "      <td>10011773</td>\n",
       "      <td>0.0</td>\n",
       "      <td>0.0</td>\n",
       "      <td>19.0</td>\n",
       "      <td>1.0</td>\n",
       "    </tr>\n",
       "    <tr>\n",
       "      <th>1</th>\n",
       "      <td>10020495</td>\n",
       "      <td>1.0</td>\n",
       "      <td>0.0</td>\n",
       "      <td>9.0</td>\n",
       "      <td>0.0</td>\n",
       "    </tr>\n",
       "    <tr>\n",
       "      <th>2</th>\n",
       "      <td>10030299</td>\n",
       "      <td>1.0</td>\n",
       "      <td>0.0</td>\n",
       "      <td>18.0</td>\n",
       "      <td>1.0</td>\n",
       "    </tr>\n",
       "    <tr>\n",
       "      <th>3</th>\n",
       "      <td>10030824</td>\n",
       "      <td>1.0</td>\n",
       "      <td>0.0</td>\n",
       "      <td>18.0</td>\n",
       "      <td>1.0</td>\n",
       "    </tr>\n",
       "    <tr>\n",
       "      <th>4</th>\n",
       "      <td>10041592</td>\n",
       "      <td>0.0</td>\n",
       "      <td>0.0</td>\n",
       "      <td>65.0</td>\n",
       "      <td>0.0</td>\n",
       "    </tr>\n",
       "    <tr>\n",
       "      <th>...</th>\n",
       "      <td>...</td>\n",
       "      <td>...</td>\n",
       "      <td>...</td>\n",
       "      <td>...</td>\n",
       "      <td>...</td>\n",
       "    </tr>\n",
       "    <tr>\n",
       "      <th>9995</th>\n",
       "      <td>99966287</td>\n",
       "      <td>1.0</td>\n",
       "      <td>0.0</td>\n",
       "      <td>18.0</td>\n",
       "      <td>0.0</td>\n",
       "    </tr>\n",
       "    <tr>\n",
       "      <th>9996</th>\n",
       "      <td>99981192</td>\n",
       "      <td>1.0</td>\n",
       "      <td>0.0</td>\n",
       "      <td>14.0</td>\n",
       "      <td>0.0</td>\n",
       "    </tr>\n",
       "    <tr>\n",
       "      <th>9997</th>\n",
       "      <td>99988958</td>\n",
       "      <td>1.0</td>\n",
       "      <td>0.0</td>\n",
       "      <td>67.0</td>\n",
       "      <td>1.0</td>\n",
       "    </tr>\n",
       "    <tr>\n",
       "      <th>9998</th>\n",
       "      <td>99992350</td>\n",
       "      <td>0.0</td>\n",
       "      <td>0.0</td>\n",
       "      <td>16.0</td>\n",
       "      <td>0.0</td>\n",
       "    </tr>\n",
       "    <tr>\n",
       "      <th>9999</th>\n",
       "      <td>99994417</td>\n",
       "      <td>1.0</td>\n",
       "      <td>0.0</td>\n",
       "      <td>20.0</td>\n",
       "      <td>1.0</td>\n",
       "    </tr>\n",
       "  </tbody>\n",
       "</table>\n",
       "<p>10000 rows × 5 columns</p>\n",
       "</div>"
      ],
      "text/plain": [
       "           ehr   er  her2  ki67   pr\n",
       "0     10011773  0.0   0.0  19.0  1.0\n",
       "1     10020495  1.0   0.0   9.0  0.0\n",
       "2     10030299  1.0   0.0  18.0  1.0\n",
       "3     10030824  1.0   0.0  18.0  1.0\n",
       "4     10041592  0.0   0.0  65.0  0.0\n",
       "...        ...  ...   ...   ...  ...\n",
       "9995  99966287  1.0   0.0  18.0  0.0\n",
       "9996  99981192  1.0   0.0  14.0  0.0\n",
       "9997  99988958  1.0   0.0  67.0  1.0\n",
       "9998  99992350  0.0   0.0  16.0  0.0\n",
       "9999  99994417  1.0   0.0  20.0  1.0\n",
       "\n",
       "[10000 rows x 5 columns]"
      ]
     },
     "execution_count": 351,
     "metadata": {},
     "output_type": "execute_result"
    }
   ],
   "source": [
    "df_json"
   ]
  },
  {
   "cell_type": "code",
   "execution_count": 352,
   "metadata": {},
   "outputs": [
    {
     "name": "stdout",
     "output_type": "stream",
     "text": [
      "Número de valores nulos por columna:\n",
      "ehr     0\n",
      "er      0\n",
      "her2    0\n",
      "ki67    0\n",
      "pr      0\n",
      "dtype: int64\n"
     ]
    }
   ],
   "source": [
    "nulos = df_json.isnull()\n",
    "\n",
    "num_nulos_por_columna = nulos.sum()\n",
    "\n",
    "print(\"Número de valores nulos por columna:\")\n",
    "print(num_nulos_por_columna)"
   ]
  },
  {
   "cell_type": "markdown",
   "metadata": {},
   "source": [
    "De esta manera, hemos imputado todos los nulos. Y tenemos los datos listos para el análisis de los mismos"
   ]
  },
  {
   "cell_type": "markdown",
   "metadata": {},
   "source": [
    "### Preprocesado datos_sql.csv"
   ]
  },
  {
   "cell_type": "code",
   "execution_count": 353,
   "metadata": {},
   "outputs": [
    {
     "name": "stdout",
     "output_type": "stream",
     "text": [
      "<class 'pandas.core.frame.DataFrame'>\n",
      "RangeIndex: 11167 entries, 0 to 11166\n",
      "Data columns (total 14 columns):\n",
      " #   Column                   Non-Null Count  Dtype  \n",
      "---  ------                   --------------  -----  \n",
      " 0   ehr                      11167 non-null  int64  \n",
      " 1   n_tumor                  11167 non-null  int64  \n",
      " 2   t_category               11167 non-null  object \n",
      " 3   n_category               11167 non-null  int64  \n",
      " 4   m_category               11167 non-null  int64  \n",
      " 5   t_category_after_neoadj  5677 non-null   object \n",
      " 6   n_category_after_neoadj  5677 non-null   float64\n",
      " 7   m_category_after_neoadj  5627 non-null   float64\n",
      " 8   stage_diagnosis          11167 non-null  object \n",
      " 9   stage_after_neo          6064 non-null   object \n",
      " 10  grade                    11167 non-null  int64  \n",
      " 11  ductal                   6324 non-null   float64\n",
      " 12  lobular                  1564 non-null   float64\n",
      " 13  neoadjuvant              11167 non-null  object \n",
      "dtypes: float64(4), int64(5), object(5)\n",
      "memory usage: 1.2+ MB\n"
     ]
    }
   ],
   "source": [
    "# df_sql.to_csv('datos_sql.csv')\n",
    "df_sql = pd.read_csv('./Datos/datos_sql.csv')\n",
    "df_sql = df_sql.drop('Unnamed: 0',axis=1)\n",
    "df_sql.info()"
   ]
  },
  {
   "cell_type": "code",
   "execution_count": 354,
   "metadata": {},
   "outputs": [
    {
     "data": {
      "text/plain": [
       "ehr                           0\n",
       "n_tumor                       0\n",
       "t_category                    0\n",
       "n_category                    0\n",
       "m_category                    0\n",
       "t_category_after_neoadj    5490\n",
       "n_category_after_neoadj    5490\n",
       "m_category_after_neoadj    5540\n",
       "stage_diagnosis               0\n",
       "stage_after_neo            5103\n",
       "grade                         0\n",
       "ductal                     4843\n",
       "lobular                    9603\n",
       "neoadjuvant                   0\n",
       "dtype: int64"
      ]
     },
     "execution_count": 354,
     "metadata": {},
     "output_type": "execute_result"
    }
   ],
   "source": [
    "df_sql.isnull().sum()"
   ]
  },
  {
   "cell_type": "code",
   "execution_count": 355,
   "metadata": {},
   "outputs": [
    {
     "data": {
      "text/plain": [
       "1.0    6324\n",
       "Name: ductal, dtype: int64"
      ]
     },
     "execution_count": 355,
     "metadata": {},
     "output_type": "execute_result"
    }
   ],
   "source": [
    "df_sql['ductal'].value_counts()"
   ]
  },
  {
   "cell_type": "code",
   "execution_count": 356,
   "metadata": {},
   "outputs": [],
   "source": [
    "df_sql['ductal'] = df_sql['ductal'].fillna(0)"
   ]
  },
  {
   "cell_type": "code",
   "execution_count": 357,
   "metadata": {},
   "outputs": [
    {
     "data": {
      "text/plain": [
       "1.0    1564\n",
       "Name: lobular, dtype: int64"
      ]
     },
     "execution_count": 357,
     "metadata": {},
     "output_type": "execute_result"
    }
   ],
   "source": [
    "df_sql['lobular'].value_counts()"
   ]
  },
  {
   "cell_type": "code",
   "execution_count": 358,
   "metadata": {},
   "outputs": [],
   "source": [
    "df_sql['lobular'] = df_sql['lobular'].fillna(0)"
   ]
  },
  {
   "cell_type": "code",
   "execution_count": 359,
   "metadata": {},
   "outputs": [
    {
     "data": {
      "text/plain": [
       "ehr                           0\n",
       "n_tumor                       0\n",
       "t_category                    0\n",
       "n_category                    0\n",
       "m_category                    0\n",
       "t_category_after_neoadj    5490\n",
       "n_category_after_neoadj    5490\n",
       "m_category_after_neoadj    5540\n",
       "stage_diagnosis               0\n",
       "stage_after_neo            5103\n",
       "grade                         0\n",
       "ductal                        0\n",
       "lobular                       0\n",
       "neoadjuvant                   0\n",
       "dtype: int64"
      ]
     },
     "execution_count": 359,
     "metadata": {},
     "output_type": "execute_result"
    }
   ],
   "source": [
    "df_sql.isnull().sum()"
   ]
  },
  {
   "cell_type": "code",
   "execution_count": 360,
   "metadata": {},
   "outputs": [
    {
     "name": "stdout",
     "output_type": "stream",
     "text": [
      "<class 'pandas.core.frame.DataFrame'>\n",
      "RangeIndex: 11167 entries, 0 to 11166\n",
      "Data columns (total 14 columns):\n",
      " #   Column                   Non-Null Count  Dtype  \n",
      "---  ------                   --------------  -----  \n",
      " 0   ehr                      11167 non-null  int64  \n",
      " 1   n_tumor                  11167 non-null  int64  \n",
      " 2   t_category               11167 non-null  object \n",
      " 3   n_category               11167 non-null  int64  \n",
      " 4   m_category               11167 non-null  int64  \n",
      " 5   t_category_after_neoadj  5677 non-null   object \n",
      " 6   n_category_after_neoadj  5677 non-null   float64\n",
      " 7   m_category_after_neoadj  5627 non-null   float64\n",
      " 8   stage_diagnosis          11167 non-null  object \n",
      " 9   stage_after_neo          6064 non-null   object \n",
      " 10  grade                    11167 non-null  int64  \n",
      " 11  ductal                   11167 non-null  float64\n",
      " 12  lobular                  11167 non-null  float64\n",
      " 13  neoadjuvant              11167 non-null  object \n",
      "dtypes: float64(4), int64(5), object(5)\n",
      "memory usage: 1.2+ MB\n"
     ]
    }
   ],
   "source": [
    "df_sql['n_category'] = df_sql['n_category'].astype('int64')\n",
    "df_sql['m_category'] = df_sql['m_category'].astype('int64')\n",
    "df_sql.info()"
   ]
  },
  {
   "cell_type": "code",
   "execution_count": 361,
   "metadata": {},
   "outputs": [
    {
     "name": "stdout",
     "output_type": "stream",
     "text": [
      "<class 'pandas.core.frame.DataFrame'>\n",
      "RangeIndex: 11167 entries, 0 to 11166\n",
      "Data columns (total 14 columns):\n",
      " #   Column                   Non-Null Count  Dtype  \n",
      "---  ------                   --------------  -----  \n",
      " 0   ehr                      11167 non-null  int64  \n",
      " 1   n_tumor                  11167 non-null  int64  \n",
      " 2   t_category               11167 non-null  object \n",
      " 3   n_category               11167 non-null  int64  \n",
      " 4   m_category               11167 non-null  int64  \n",
      " 5   t_category_after_neoadj  5677 non-null   object \n",
      " 6   n_category_after_neoadj  5677 non-null   float64\n",
      " 7   m_category_after_neoadj  5627 non-null   float64\n",
      " 8   stage_diagnosis          11167 non-null  object \n",
      " 9   stage_after_neo          6064 non-null   object \n",
      " 10  grade                    11167 non-null  int64  \n",
      " 11  ductal                   11167 non-null  float64\n",
      " 12  lobular                  11167 non-null  float64\n",
      " 13  neoadjuvant              11167 non-null  int64  \n",
      "dtypes: float64(4), int64(6), object(4)\n",
      "memory usage: 1.2+ MB\n"
     ]
    }
   ],
   "source": [
    "dic = {'yes':1,'no':0}\n",
    "df_sql['neoadjuvant'] = df_sql['neoadjuvant'].map(dic)\n",
    "df_sql['neoadjuvant'] = df_sql['neoadjuvant'].astype('int64')\n",
    "df_sql.info()"
   ]
  },
  {
   "cell_type": "markdown",
   "metadata": {},
   "source": [
    "Para todas las variables 'after_neo', comprobamos si el número de nulos se corresponde con el número de valores 0 en la variable neoadjuvant, que indica que no han recibido este tratamiento, así podremos inputar de forma correcta estos nulos que observamos en dichas variables:"
   ]
  },
  {
   "cell_type": "code",
   "execution_count": 362,
   "metadata": {},
   "outputs": [
    {
     "data": {
      "text/plain": [
       "1    5677\n",
       "0    5490\n",
       "Name: neoadjuvant, dtype: int64"
      ]
     },
     "execution_count": 362,
     "metadata": {},
     "output_type": "execute_result"
    }
   ],
   "source": [
    "df_sql['neoadjuvant'].value_counts()"
   ]
  },
  {
   "cell_type": "markdown",
   "metadata": {},
   "source": [
    "Observamos que ambos valores coinciden, es decir, hay 5677 valores no nulos en dichas variables y 5677 valores a 1 en 'neoadjuvant', por lo que podemos imputar los nulos como ' '. Para la representación de los histogramas dejamos los nulos a NAN y los transformaremos a ' '  más adelante."
   ]
  },
  {
   "cell_type": "code",
   "execution_count": 363,
   "metadata": {},
   "outputs": [
    {
     "data": {
      "text/plain": [
       "IA      2181\n",
       "IIIA    1055\n",
       "IIA      936\n",
       "0        578\n",
       "IV       362\n",
       "IIB      357\n",
       "IB       240\n",
       "IIIB     181\n",
       "IIIC     174\n",
       "Name: stage_after_neo, dtype: int64"
      ]
     },
     "execution_count": 363,
     "metadata": {},
     "output_type": "execute_result"
    }
   ],
   "source": [
    "df_sql['stage_after_neo'].value_counts()"
   ]
  },
  {
   "cell_type": "markdown",
   "metadata": {},
   "source": [
    "Ya hemos detectado aquellos valores que son nulos en 'stage_after_neo' y sí han recibido el tratamiento neoadjuvant. Esto puede deberse a un simple error o a que aún no se le ha hecho el diagnóstico después del tratamiento. Al tratarse de pocos valores en comparación con los que tenemos, los imputaremos con la moda, que en este caso es IA:"
   ]
  },
  {
   "cell_type": "code",
   "execution_count": 364,
   "metadata": {},
   "outputs": [
    {
     "data": {
      "text/plain": [
       "ehr                           0\n",
       "n_tumor                       0\n",
       "t_category                    0\n",
       "n_category                    0\n",
       "m_category                    0\n",
       "t_category_after_neoadj    5490\n",
       "n_category_after_neoadj    5490\n",
       "m_category_after_neoadj    5540\n",
       "stage_diagnosis               0\n",
       "stage_after_neo               0\n",
       "grade                         0\n",
       "ductal                        0\n",
       "lobular                       0\n",
       "neoadjuvant                   0\n",
       "dtype: int64"
      ]
     },
     "execution_count": 364,
     "metadata": {},
     "output_type": "execute_result"
    }
   ],
   "source": [
    "df_sql['stage_after_neo'] = df_sql['stage_after_neo'].fillna('IA')\n",
    "df_sql.isnull().sum()"
   ]
  },
  {
   "cell_type": "markdown",
   "metadata": {},
   "source": [
    "Lo mismo hacemos para la variable m_category_after_neoadj:"
   ]
  },
  {
   "cell_type": "code",
   "execution_count": 365,
   "metadata": {},
   "outputs": [
    {
     "data": {
      "text/plain": [
       "0.0    4930\n",
       "1.0     697\n",
       "Name: m_category_after_neoadj, dtype: int64"
      ]
     },
     "execution_count": 365,
     "metadata": {},
     "output_type": "execute_result"
    }
   ],
   "source": [
    "df_sql['m_category_after_neoadj'].value_counts()"
   ]
  },
  {
   "cell_type": "code",
   "execution_count": 366,
   "metadata": {},
   "outputs": [
    {
     "data": {
      "text/plain": [
       "ehr                           0\n",
       "n_tumor                       0\n",
       "t_category                    0\n",
       "n_category                    0\n",
       "m_category                    0\n",
       "t_category_after_neoadj    5490\n",
       "n_category_after_neoadj    5490\n",
       "m_category_after_neoadj       0\n",
       "stage_diagnosis               0\n",
       "stage_after_neo               0\n",
       "grade                         0\n",
       "ductal                        0\n",
       "lobular                       0\n",
       "neoadjuvant                   0\n",
       "dtype: int64"
      ]
     },
     "execution_count": 366,
     "metadata": {},
     "output_type": "execute_result"
    }
   ],
   "source": [
    "df_sql['m_category_after_neoadj'] = df_sql['m_category_after_neoadj'].fillna(0)\n",
    "df_sql.isnull().sum()"
   ]
  },
  {
   "cell_type": "code",
   "execution_count": 367,
   "metadata": {},
   "outputs": [],
   "source": [
    "def recuento_valores(df):\n",
    "    columnas = list(df.columns)\n",
    "    valores = {}\n",
    "    for i in range(0,len(columnas)):\n",
    "        valores[columnas[i]] = df[columnas[i]].value_counts()\n",
    "    return valores"
   ]
  },
  {
   "cell_type": "code",
   "execution_count": 368,
   "metadata": {},
   "outputs": [],
   "source": [
    "valores = recuento_valores(df_sql)"
   ]
  },
  {
   "cell_type": "code",
   "execution_count": 369,
   "metadata": {},
   "outputs": [],
   "source": [
    "def histograma(dic, variable):\n",
    "    datos = dic[variable].values\n",
    "    indice = list(dic[variable].index)\n",
    "\n",
    "# Obtener colores automáticamente utilizando un mapa de colores de Matplotlib\n",
    "    colores = plt.cm.tab10(range(len(set(indice))))\n",
    "    plt.figure(figsize=(8,4))\n",
    "\n",
    "    # Crear un histograma con colores diferentes para cada valor en el índice\n",
    "    for i, val in enumerate(indice):\n",
    "        plt.bar(val, datos[i], color=colores[i], edgecolor='black')\n",
    "\n",
    "    # Ajustar los ticks del eje x automáticamente\n",
    "    plt.xticks(list(set(indice)))\n",
    "\n",
    "    # Personalizar el gráfico\n",
    "    plt.title(f'Histograma de {variable}')\n",
    "    plt.xlabel('Categorías')\n",
    "    plt.ylabel('Frecuencia')\n",
    "\n",
    "    # Mostrar el histograma\n",
    "    plt.show()"
   ]
  },
  {
   "cell_type": "markdown",
   "metadata": {},
   "source": [
    "Vamos a analizar el histograma de cada variable para conocer sus distribuciones:"
   ]
  },
  {
   "cell_type": "code",
   "execution_count": 370,
   "metadata": {},
   "outputs": [
    {
     "data": {
      "image/png": "[encoded data removed]",
      "text/plain": [
       "<Figure size 800x400 with 1 Axes>"
      ]
     },
     "metadata": {},
     "output_type": "display_data"
    },
    {
     "data": {
      "image/png": "[encoded data removed]",
      "text/plain": [
       "<Figure size 800x400 with 1 Axes>"
      ]
     },
     "metadata": {},
     "output_type": "display_data"
    },
    {
     "data": {
      "image/png": "[encoded data removed]",
      "text/plain": [
       "<Figure size 800x400 with 1 Axes>"
      ]
     },
     "metadata": {},
     "output_type": "display_data"
    },
    {
     "data": {
      "image/png": "[encoded data removed]",
      "text/plain": [
       "<Figure size 800x400 with 1 Axes>"
      ]
     },
     "metadata": {},
     "output_type": "display_data"
    },
    {
     "data": {
      "image/png": "[encoded data removed]",
      "text/plain": [
       "<Figure size 800x400 with 1 Axes>"
      ]
     },
     "metadata": {},
     "output_type": "display_data"
    }
   ],
   "source": [
    "variables_binarias = ['m_category','m_category_after_neoadj','ductal','lobular','neoadjuvant']\n",
    "for i in range(len(variables_binarias)):\n",
    "    histograma(valores,variables_binarias[i])"
   ]
  },
  {
   "cell_type": "code",
   "execution_count": 371,
   "metadata": {},
   "outputs": [
    {
     "data": {
      "image/png": "[encoded data removed]",
      "text/plain": [
       "<Figure size 800x400 with 1 Axes>"
      ]
     },
     "metadata": {},
     "output_type": "display_data"
    },
    {
     "data": {
      "image/png": "[encoded data removed]",
      "text/plain": [
       "<Figure size 800x400 with 1 Axes>"
      ]
     },
     "metadata": {},
     "output_type": "display_data"
    },
    {
     "data": {
      "image/png": "[encoded data removed]",
      "text/plain": [
       "<Figure size 800x400 with 1 Axes>"
      ]
     },
     "metadata": {},
     "output_type": "display_data"
    },
    {
     "data": {
      "image/png": "[encoded data removed]",
      "text/plain": [
       "<Figure size 800x400 with 1 Axes>"
      ]
     },
     "metadata": {},
     "output_type": "display_data"
    },
    {
     "data": {
      "image/png": "[encoded data removed]",
      "text/plain": [
       "<Figure size 800x400 with 1 Axes>"
      ]
     },
     "metadata": {},
     "output_type": "display_data"
    },
    {
     "data": {
      "image/png": "[encoded data removed]",
      "text/plain": [
       "<Figure size 800x400 with 1 Axes>"
      ]
     },
     "metadata": {},
     "output_type": "display_data"
    },
    {
     "data": {
      "image/png": "[encoded data removed]",
      "text/plain": [
       "<Figure size 800x400 with 1 Axes>"
      ]
     },
     "metadata": {},
     "output_type": "display_data"
    },
    {
     "data": {
      "image/png": "[encoded data removed]",
      "text/plain": [
       "<Figure size 800x400 with 1 Axes>"
      ]
     },
     "metadata": {},
     "output_type": "display_data"
    }
   ],
   "source": [
    "variables_no_binarias = ['n_tumor','t_category','n_category','t_category_after_neoadj','n_category_after_neoadj','stage_diagnosis','stage_after_neo','grade']\n",
    "for i in range(len(variables_no_binarias)):\n",
    "    histograma(valores,variables_no_binarias[i])"
   ]
  },
  {
   "cell_type": "code",
   "execution_count": 372,
   "metadata": {},
   "outputs": [
    {
     "data": {
      "text/plain": [
       "ehr                        0\n",
       "n_tumor                    0\n",
       "t_category                 0\n",
       "n_category                 0\n",
       "m_category                 0\n",
       "t_category_after_neoadj    0\n",
       "n_category_after_neoadj    0\n",
       "m_category_after_neoadj    0\n",
       "stage_diagnosis            0\n",
       "stage_after_neo            0\n",
       "grade                      0\n",
       "ductal                     0\n",
       "lobular                    0\n",
       "neoadjuvant                0\n",
       "dtype: int64"
      ]
     },
     "execution_count": 372,
     "metadata": {},
     "output_type": "execute_result"
    }
   ],
   "source": [
    "df_sql.loc[df_sql['neoadjuvant'] == 0, 'm_category_after_neoadj'] = ' '\n",
    "df_sql.loc[df_sql['neoadjuvant'] == 0, 't_category_after_neoadj'] = ' '\n",
    "df_sql.loc[df_sql['neoadjuvant'] == 0, 'n_category_after_neoadj'] = ' '\n",
    "df_sql.isnull().sum()"
   ]
  },
  {
   "cell_type": "code",
   "execution_count": 373,
   "metadata": {},
   "outputs": [
    {
     "data": {
      "text/plain": [
       "ehr                        0\n",
       "n_tumor                    0\n",
       "t_category                 0\n",
       "n_category                 0\n",
       "m_category                 0\n",
       "t_category_after_neoadj    0\n",
       "n_category_after_neoadj    0\n",
       "m_category_after_neoadj    0\n",
       "stage_diagnosis            0\n",
       "stage_after_neo            0\n",
       "grade                      0\n",
       "ductal                     0\n",
       "lobular                    0\n",
       "neoadjuvant                0\n",
       "dtype: int64"
      ]
     },
     "execution_count": 373,
     "metadata": {},
     "output_type": "execute_result"
    }
   ],
   "source": [
    "df_sql.loc[df_sql['neoadjuvant'] == 0, 'stage_after_neo'] = 'SIN TRATAMIENTO' \n",
    "df_sql.isnull().sum()"
   ]
  },
  {
   "cell_type": "markdown",
   "metadata": {},
   "source": [
    "### UNIÓN DE LOS DATOS"
   ]
  },
  {
   "cell_type": "markdown",
   "metadata": {},
   "source": [
    "Tenemos los datos de 3 fuentes distintas ya preprocesados: los datos de excel,csv,json y sql, guardados en las variables df,df_csv,df_json y df_sql respectivamente. Primero vamos a observar los tamaños de cada uno:"
   ]
  },
  {
   "cell_type": "code",
   "execution_count": 374,
   "metadata": {},
   "outputs": [
    {
     "name": "stdout",
     "output_type": "stream",
     "text": [
      "Tamaño df: 6173\n",
      "Tamaño df_csv: 10000\n",
      "Tamaño df_json:10000\n",
      "Tamaño df_sql: 11167\n"
     ]
    }
   ],
   "source": [
    "print(f'Tamaño df: {len(df)}\\nTamaño df_csv: {len(df_csv)}\\nTamaño df_json:{len(df_json)}\\nTamaño df_sql: {len(df_sql)}')"
   ]
  },
  {
   "cell_type": "markdown",
   "metadata": {},
   "source": [
    "Podemos observar que tienen tamaños distintos, por lo que un simple merge por la columna ehr no es posible. Examinamos primeramente la posibilidad de unir los df_csv y df_json, ya que tienen el mismo tamaño:"
   ]
  },
  {
   "cell_type": "code",
   "execution_count": 379,
   "metadata": {},
   "outputs": [
    {
     "data": {
      "text/html": [
       "<div>\n",
       "<style scoped>\n",
       "    .dataframe tbody tr th:only-of-type {\n",
       "        vertical-align: middle;\n",
       "    }\n",
       "\n",
       "    .dataframe tbody tr th {\n",
       "        vertical-align: top;\n",
       "    }\n",
       "\n",
       "    .dataframe thead th {\n",
       "        text-align: right;\n",
       "    }\n",
       "</style>\n",
       "<table border=\"1\" class=\"dataframe\">\n",
       "  <thead>\n",
       "    <tr style=\"text-align: right;\">\n",
       "      <th></th>\n",
       "      <th>ehr</th>\n",
       "      <th>birth_date</th>\n",
       "      <th>diagnosis_date</th>\n",
       "      <th>death_date</th>\n",
       "      <th>er</th>\n",
       "      <th>her2</th>\n",
       "      <th>ki67</th>\n",
       "      <th>pr</th>\n",
       "    </tr>\n",
       "  </thead>\n",
       "  <tbody>\n",
       "    <tr>\n",
       "      <th>0</th>\n",
       "      <td>10011773</td>\n",
       "      <td>05-07-1959</td>\n",
       "      <td>02-04-2015</td>\n",
       "      <td>NaN</td>\n",
       "      <td>0.0</td>\n",
       "      <td>0.0</td>\n",
       "      <td>19.0</td>\n",
       "      <td>1.0</td>\n",
       "    </tr>\n",
       "    <tr>\n",
       "      <th>1</th>\n",
       "      <td>10020495</td>\n",
       "      <td>02-10-1953</td>\n",
       "      <td>04-12-2017</td>\n",
       "      <td>NaN</td>\n",
       "      <td>1.0</td>\n",
       "      <td>0.0</td>\n",
       "      <td>9.0</td>\n",
       "      <td>0.0</td>\n",
       "    </tr>\n",
       "    <tr>\n",
       "      <th>2</th>\n",
       "      <td>10030299</td>\n",
       "      <td>16-08-1966</td>\n",
       "      <td>27-06-2019</td>\n",
       "      <td>NaN</td>\n",
       "      <td>1.0</td>\n",
       "      <td>0.0</td>\n",
       "      <td>18.0</td>\n",
       "      <td>1.0</td>\n",
       "    </tr>\n",
       "    <tr>\n",
       "      <th>3</th>\n",
       "      <td>10030824</td>\n",
       "      <td>03-03-1953</td>\n",
       "      <td>07-09-2018</td>\n",
       "      <td>NaN</td>\n",
       "      <td>1.0</td>\n",
       "      <td>0.0</td>\n",
       "      <td>18.0</td>\n",
       "      <td>1.0</td>\n",
       "    </tr>\n",
       "    <tr>\n",
       "      <th>4</th>\n",
       "      <td>10041592</td>\n",
       "      <td>06-07-1959</td>\n",
       "      <td>19-11-2018</td>\n",
       "      <td>NaN</td>\n",
       "      <td>0.0</td>\n",
       "      <td>0.0</td>\n",
       "      <td>65.0</td>\n",
       "      <td>0.0</td>\n",
       "    </tr>\n",
       "    <tr>\n",
       "      <th>...</th>\n",
       "      <td>...</td>\n",
       "      <td>...</td>\n",
       "      <td>...</td>\n",
       "      <td>...</td>\n",
       "      <td>...</td>\n",
       "      <td>...</td>\n",
       "      <td>...</td>\n",
       "      <td>...</td>\n",
       "    </tr>\n",
       "    <tr>\n",
       "      <th>9995</th>\n",
       "      <td>99966287</td>\n",
       "      <td>16-12-1978</td>\n",
       "      <td>02-08-2018</td>\n",
       "      <td>NaN</td>\n",
       "      <td>1.0</td>\n",
       "      <td>0.0</td>\n",
       "      <td>18.0</td>\n",
       "      <td>0.0</td>\n",
       "    </tr>\n",
       "    <tr>\n",
       "      <th>9996</th>\n",
       "      <td>99981192</td>\n",
       "      <td>10-04-1949</td>\n",
       "      <td>28-10-2017</td>\n",
       "      <td>NaN</td>\n",
       "      <td>1.0</td>\n",
       "      <td>0.0</td>\n",
       "      <td>14.0</td>\n",
       "      <td>0.0</td>\n",
       "    </tr>\n",
       "    <tr>\n",
       "      <th>9997</th>\n",
       "      <td>99988958</td>\n",
       "      <td>21-01-1966</td>\n",
       "      <td>27-05-2013</td>\n",
       "      <td>NaN</td>\n",
       "      <td>1.0</td>\n",
       "      <td>0.0</td>\n",
       "      <td>67.0</td>\n",
       "      <td>1.0</td>\n",
       "    </tr>\n",
       "    <tr>\n",
       "      <th>9998</th>\n",
       "      <td>99992350</td>\n",
       "      <td>04-09-1939</td>\n",
       "      <td>17-12-2018</td>\n",
       "      <td>NaN</td>\n",
       "      <td>0.0</td>\n",
       "      <td>0.0</td>\n",
       "      <td>16.0</td>\n",
       "      <td>0.0</td>\n",
       "    </tr>\n",
       "    <tr>\n",
       "      <th>9999</th>\n",
       "      <td>99994417</td>\n",
       "      <td>10-02-1962</td>\n",
       "      <td>01-04-2017</td>\n",
       "      <td>NaN</td>\n",
       "      <td>1.0</td>\n",
       "      <td>0.0</td>\n",
       "      <td>20.0</td>\n",
       "      <td>1.0</td>\n",
       "    </tr>\n",
       "  </tbody>\n",
       "</table>\n",
       "<p>10000 rows × 8 columns</p>\n",
       "</div>"
      ],
      "text/plain": [
       "           ehr  birth_date diagnosis_date death_date   er  her2  ki67   pr\n",
       "0     10011773  05-07-1959     02-04-2015        NaN  0.0   0.0  19.0  1.0\n",
       "1     10020495  02-10-1953     04-12-2017        NaN  1.0   0.0   9.0  0.0\n",
       "2     10030299  16-08-1966     27-06-2019        NaN  1.0   0.0  18.0  1.0\n",
       "3     10030824  03-03-1953     07-09-2018        NaN  1.0   0.0  18.0  1.0\n",
       "4     10041592  06-07-1959     19-11-2018        NaN  0.0   0.0  65.0  0.0\n",
       "...        ...         ...            ...        ...  ...   ...   ...  ...\n",
       "9995  99966287  16-12-1978     02-08-2018        NaN  1.0   0.0  18.0  0.0\n",
       "9996  99981192  10-04-1949     28-10-2017        NaN  1.0   0.0  14.0  0.0\n",
       "9997  99988958  21-01-1966     27-05-2013        NaN  1.0   0.0  67.0  1.0\n",
       "9998  99992350  04-09-1939     17-12-2018        NaN  0.0   0.0  16.0  0.0\n",
       "9999  99994417  10-02-1962     01-04-2017        NaN  1.0   0.0  20.0  1.0\n",
       "\n",
       "[10000 rows x 8 columns]"
      ]
     },
     "execution_count": 379,
     "metadata": {},
     "output_type": "execute_result"
    }
   ],
   "source": [
    "df_merge = pd.merge(df_csv,df_json,on='ehr',how='inner')\n",
    "df_merge"
   ]
  },
  {
   "cell_type": "code",
   "execution_count": 381,
   "metadata": {},
   "outputs": [
    {
     "data": {
      "text/plain": [
       "0        10011773\n",
       "1        10020495\n",
       "2        10020495\n",
       "3        10030299\n",
       "4        10030824\n",
       "           ...   \n",
       "11162    99966287\n",
       "11163    99981192\n",
       "11164    99988958\n",
       "11165    99992350\n",
       "11166    99994417\n",
       "Name: ehr, Length: 11167, dtype: int64"
      ]
     },
     "execution_count": 381,
     "metadata": {},
     "output_type": "execute_result"
    }
   ],
   "source": [
    "df_sql['ehr']"
   ]
  }
 ],
 "metadata": {
  "kernelspec": {
   "display_name": "Python 3",
   "language": "python",
   "name": "python3"
  },
  "language_info": {
   "codemirror_mode": {
    "name": "ipython",
    "version": 3
   },
   "file_extension": ".py",
   "mimetype": "text/x-python",
   "name": "python",
   "nbconvert_exporter": "python",
   "pygments_lexer": "ipython3",
   "version": "3.11.2"
  }
 },
 "nbformat": 4,
 "nbformat_minor": 2
}
