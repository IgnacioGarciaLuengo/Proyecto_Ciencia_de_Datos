{
 "cells": [
  {
   "cell_type": "code",
   "execution_count": 26,
   "metadata": {},
   "outputs": [],
   "source": [
    "import sys\n",
    "import pandas as pd\n",
    "import numpy as np\n",
    "import matplotlib.pyplot as plt\n",
    "import mysql.connector"
   ]
  },
  {
   "cell_type": "markdown",
   "metadata": {},
   "source": [
    "### LECTURA DATOS"
   ]
  },
  {
   "cell_type": "code",
   "execution_count": 27,
   "metadata": {},
   "outputs": [
    {
     "name": "stderr",
     "output_type": "stream",
     "text": [
      "C:\\Users\\34699\\AppData\\Local\\Temp\\ipykernel_11076\\1996938415.py:16: UserWarning: pandas only supports SQLAlchemy connectable (engine/connection) or database string URI or sqlite3 DBAPI2 connection. Other DBAPI2 objects are not tested. Please consider using SQLAlchemy.\n",
      "  df = pd.read_sql_query(query, conn_mysql)\n"
     ]
    }
   ],
   "source": [
    "mysql_config = {\n",
    "    'host': 'localhost',\n",
    "    'user': 'root',\n",
    "    'password': 'MagicNL12',\n",
    "    'database': 'cancer_mama'\n",
    "}\n",
    "\n",
    "conn_mysql = mysql.connector.connect(**mysql_config)\n",
    "cursor_mysql = conn_mysql.cursor()\n",
    "\n",
    "query = \"SELECT * FROM tumor;\"\n",
    "df_sql = pd.read_sql_query(query, conn_mysql)"
   ]
  },
  {
   "cell_type": "code",
   "execution_count": 34,
   "metadata": {},
   "outputs": [],
   "source": [
    "df_csv1 = pd.read_csv('./Datos/patients_batch1.csv',sep=',')\n",
    "df_csv2 = pd.read_csv('./Datos/patients_batch2.csv',sep=',')\n",
    "df_excel = pd.read_excel('./Datos/gynecological.xlsx')\n",
    "df_json = pd.read_json('./Datos/histochemistry.json')"
   ]
  }
 ],
 "metadata": {
  "kernelspec": {
   "display_name": "Python 3",
   "language": "python",
   "name": "python3"
  },
  "language_info": {
   "codemirror_mode": {
    "name": "ipython",
    "version": 3
   },
   "file_extension": ".py",
   "mimetype": "text/x-python",
   "name": "python",
   "nbconvert_exporter": "python",
   "pygments_lexer": "ipython3",
   "version": "3.11.2"
  }
 },
 "nbformat": 4,
 "nbformat_minor": 2
}
