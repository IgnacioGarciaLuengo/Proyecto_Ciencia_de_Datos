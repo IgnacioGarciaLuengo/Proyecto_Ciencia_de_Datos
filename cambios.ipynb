{
 "cells": [
  {
   "cell_type": "code",
   "execution_count": null,
   "metadata": {},
   "outputs": [],
   "source": [
    "df_sql['n_category'] = df_sql['n_category'].astype('int64')\n",
    "df_sql['m_category'] = df_sql['m_category'].astype('int64')\n",
    "df_sql.info()"
   ]
  },
  {
   "cell_type": "code",
   "execution_count": null,
   "metadata": {},
   "outputs": [],
   "source": [
    "dic = {'yes':1,'no':0}\n",
    "df_sql['neoadjuvant'] = df_sql['neoadjuvant'].map(dic)\n",
    "df_sql['neoadjuvant'] = df_sql['neoadjuvant'].astype('int64')\n",
    "df_sql.info()"
   ]
  },
  {
   "cell_type": "code",
   "execution_count": null,
   "metadata": {},
   "outputs": [],
   "source": [
    "def recuento_valores(df):\n",
    "    columnas = list(df.columns)\n",
    "    valores = {}\n",
    "    for i in range(0,len(columnas)):\n",
    "        valores[columnas[i]] = df[columnas[i]].value_counts()\n",
    "    return valores"
   ]
  },
  {
   "cell_type": "code",
   "execution_count": null,
   "metadata": {},
   "outputs": [],
   "source": [
    "valores = recuento_valores(df_sql)\n",
    "valores['neoadjuvant']"
   ]
  },
  {
   "cell_type": "code",
   "execution_count": null,
   "metadata": {},
   "outputs": [],
   "source": [
    "valores['neoadjuvant'].values"
   ]
  }
 ],
 "metadata": {
  "language_info": {
   "name": "python"
  }
 },
 "nbformat": 4,
 "nbformat_minor": 2
}
